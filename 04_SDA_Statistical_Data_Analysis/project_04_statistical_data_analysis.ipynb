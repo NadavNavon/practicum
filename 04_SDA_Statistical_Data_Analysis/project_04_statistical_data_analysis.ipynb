{
 "cells": [
  {
   "cell_type": "markdown",
   "metadata": {},
   "source": [
    " # Megaline 'Surf' and 'Ultimate Plans - Preliminary Analysis\n",
    " \n",
    " - Preliminary analysis of the plans based on a relatively small client selection (500 users).\n",
    " - Analyze clients behavior and determine which prepaid plan is more profitable."
   ]
  },
  {
   "cell_type": "markdown",
   "metadata": {},
   "source": [
    "## Table of Contents\n",
    "\n",
    "**[Step 1. Open the data file and study the general information](#1)**\n",
    "\n",
    " [Open the data](#1.1)\n",
    " \n",
    " [First look at the data](#1.2)\n",
    " \n",
    " \n",
    "  \n",
    " **[Step 2. Data Preprocessing](#2)**\n",
    " \n",
    " [calls data](#2.1)\n",
    " \n",
    " [internet data](#2.2)\n",
    " \n",
    " [messages data](#2.3)\n",
    " \n",
    " [Merge the data](#2.4)\n",
    " \n",
    " [Check for duplicates](#2.41)\n",
    " \n",
    " [Clean outliars](#2.5)\n",
    " \n",
    " \n",
    " **[Step 3. Analyze the data](#3)**\n",
    " \n",
    " [Approach](#3.1)\n",
    " \n",
    " [Row function fo calculate profit](#3.2)\n",
    " \n",
    " [Edit the table for profit analysis](#3.3)\n",
    " \n",
    " [Add city to each user_id](#3.4)\n",
    " \n",
    " [Functions for plotting histograms and calculate statistics](#3.5)\n",
    " \n",
    " [Analysis: How many users from each plan exceed plan's limit](#3.6)\n",
    " \n",
    " [Analysis:  Profit veriations by month](#3.7)\n",
    " \n",
    " [Surf plan analysis](#3.8)\n",
    " \n",
    " [Ultimate plan analysis](#3.9)\n",
    " \n",
    "  \n",
    " **[Step 4. Test hypothesis](#4)**\n",
    " \n",
    " [The Shapiro-Wilk Test for Normality](#4.01)\n",
    " \n",
    " [Test 1: The average profit from users of Ultimate and Surf calling plans differs](#4.1)\n",
    " \n",
    " [Test 2: The average profit from users in NY-NJ area is different from that of the users from other regions.](#4.2)\n",
    " \n",
    " \n",
    " **[Step 5. Overall Conclusion](#5)**\n",
    " "
   ]
  },
  {
   "cell_type": "markdown",
   "metadata": {},
   "source": [
    "<a class=\"anchor\" id=\"1\"></a>\n",
    "\n",
    "## Step 1. Open the data file and study the general information"
   ]
  },
  {
   "cell_type": "markdown",
   "metadata": {},
   "source": [
    "<a class=\"anchor\" id=\"1.1\"></a>\n",
    "### Open the data"
   ]
  },
  {
   "cell_type": "code",
   "execution_count": 28,
   "metadata": {},
   "outputs": [],
   "source": [
    "import pandas as pd\n",
    "import numpy as np\n",
    "import matplotlib.pyplot as plt\n",
    "import seaborn as sns\n",
    "import math as math\n",
    "from functools import reduce\n",
    "from scipy import stats as st\n",
    "\n",
    "#calls = pd.read_csv('/datasets/megaline_calls.csv')\n",
    "#internet = pd.read_csv('/datasets/megaline_internet.csv')\n",
    "#messages = pd.read_csv('/datasets/megaline_messages.csv')\n",
    "#plans = pd.read_csv('/datasets/megaline_plans.csv')\n",
    "#users = pd.read_csv('/datasets/megaline_users.csv')\n",
    "\n",
    "\n",
    "\n",
    "# import files\n",
    "calls = pd.read_csv('megaline_calls.csv')\n",
    "internet = pd.read_csv('megaline_internet.csv')\n",
    "messages = pd.read_csv('megaline_messages.csv')\n",
    "plans = pd.read_csv('megaline_plans.csv')\n",
    "users = pd.read_csv('megaline_users.csv')"
   ]
  },
  {
   "cell_type": "markdown",
   "metadata": {},
   "source": [
    "<a class=\"anchor\" id=\"1.2\"></a>\n",
    "### First look at the data"
   ]
  },
  {
   "cell_type": "code",
   "execution_count": 29,
   "metadata": {},
   "outputs": [
    {
     "data": {
      "text/html": [
       "<div>\n",
       "<style scoped>\n",
       "    .dataframe tbody tr th:only-of-type {\n",
       "        vertical-align: middle;\n",
       "    }\n",
       "\n",
       "    .dataframe tbody tr th {\n",
       "        vertical-align: top;\n",
       "    }\n",
       "\n",
       "    .dataframe thead th {\n",
       "        text-align: right;\n",
       "    }\n",
       "</style>\n",
       "<table border=\"1\" class=\"dataframe\">\n",
       "  <thead>\n",
       "    <tr style=\"text-align: right;\">\n",
       "      <th></th>\n",
       "      <th>id</th>\n",
       "      <th>user_id</th>\n",
       "      <th>session_date</th>\n",
       "      <th>mb_used</th>\n",
       "    </tr>\n",
       "  </thead>\n",
       "  <tbody>\n",
       "    <tr>\n",
       "      <th>0</th>\n",
       "      <td>1000_13</td>\n",
       "      <td>1000</td>\n",
       "      <td>2018-12-29</td>\n",
       "      <td>89.86</td>\n",
       "    </tr>\n",
       "    <tr>\n",
       "      <th>1</th>\n",
       "      <td>1000_204</td>\n",
       "      <td>1000</td>\n",
       "      <td>2018-12-31</td>\n",
       "      <td>0.00</td>\n",
       "    </tr>\n",
       "    <tr>\n",
       "      <th>2</th>\n",
       "      <td>1000_379</td>\n",
       "      <td>1000</td>\n",
       "      <td>2018-12-28</td>\n",
       "      <td>660.40</td>\n",
       "    </tr>\n",
       "    <tr>\n",
       "      <th>3</th>\n",
       "      <td>1000_413</td>\n",
       "      <td>1000</td>\n",
       "      <td>2018-12-26</td>\n",
       "      <td>270.99</td>\n",
       "    </tr>\n",
       "    <tr>\n",
       "      <th>4</th>\n",
       "      <td>1000_442</td>\n",
       "      <td>1000</td>\n",
       "      <td>2018-12-27</td>\n",
       "      <td>880.22</td>\n",
       "    </tr>\n",
       "  </tbody>\n",
       "</table>\n",
       "</div>"
      ],
      "text/plain": [
       "         id  user_id session_date  mb_used\n",
       "0   1000_13     1000   2018-12-29    89.86\n",
       "1  1000_204     1000   2018-12-31     0.00\n",
       "2  1000_379     1000   2018-12-28   660.40\n",
       "3  1000_413     1000   2018-12-26   270.99\n",
       "4  1000_442     1000   2018-12-27   880.22"
      ]
     },
     "metadata": {},
     "output_type": "display_data"
    }
   ],
   "source": [
    "\n",
    "# Calls data\n",
    "#display(calls.head(5))\n",
    "#display(calls.describe())\n",
    "#display(calls.info())\n",
    "#display(len(calls.query('duration == 0'))/len(calls))\n",
    "#calls.duration.describe()\n",
    "#calls.hist('duration', bins = 20)\n",
    "\n",
    "# Internet data\n",
    "display(internet.head(5))\n",
    "#display(internet.describe())\n",
    "#display(internet.info())\n",
    "#display(internet.hist('mb_used',  bins = 20))\n",
    "#display(len(internet.query('mb_used < 100'))/len(internet))\n",
    "\n",
    "# Messages data\n",
    "#display(messages.head(5))\n",
    "#display(messages.describe())\n",
    "#display(messages.info())"
   ]
  },
  {
   "cell_type": "markdown",
   "metadata": {},
   "source": [
    "### Observations\n",
    "\n",
    "##### calls:\n",
    "- Over 137K rows. each row represents a call for each user id. \n",
    "- The histogram shows that most of the data records are with 0 min call durations, will be removed to create the correct distribution. \n",
    "- 0 min calls reprssents 20% of the data. Decided to keep the data after running the script with and without these values. \n",
    "- Mean of 6.74 min and std of 5.83 suggests high dispersion. \n",
    "\n",
    "\n",
    "##### internet:\n",
    "- The histogram shows that most of the datasts contain values low then 100mb, lower then the q1 values.\n",
    "- Again, we have an odd skewed histogram, which was fixed after the preprocessing stage. \n",
    "\n",
    "\n",
    "##### messages\n",
    "- In order to gain valuable insights, we need to preprocess this data first.\n"
   ]
  },
  {
   "cell_type": "markdown",
   "metadata": {},
   "source": [
    "<a class=\"anchor\" id=\"2\"></a>\n",
    "## Step 2: Data Preprocessing "
   ]
  },
  {
   "cell_type": "markdown",
   "metadata": {},
   "source": [
    "<a class=\"anchor\" id=\"2.1\"></a>\n",
    "### calls data\n",
    "- Create pivot table by user_id and month. \n",
    "- Round up data to minutes.\n",
    "- Plot histogram."
   ]
  },
  {
   "cell_type": "code",
   "execution_count": 30,
   "metadata": {},
   "outputs": [
    {
     "data": {
      "text/html": [
       "<div>\n",
       "<style scoped>\n",
       "    .dataframe tbody tr th:only-of-type {\n",
       "        vertical-align: middle;\n",
       "    }\n",
       "\n",
       "    .dataframe tbody tr th {\n",
       "        vertical-align: top;\n",
       "    }\n",
       "\n",
       "    .dataframe thead th {\n",
       "        text-align: right;\n",
       "    }\n",
       "</style>\n",
       "<table border=\"1\" class=\"dataframe\">\n",
       "  <thead>\n",
       "    <tr style=\"text-align: right;\">\n",
       "      <th></th>\n",
       "      <th>user_id</th>\n",
       "      <th>month</th>\n",
       "      <th>duration</th>\n",
       "    </tr>\n",
       "  </thead>\n",
       "  <tbody>\n",
       "    <tr>\n",
       "      <th>0</th>\n",
       "      <td>1000</td>\n",
       "      <td>12</td>\n",
       "      <td>108.0</td>\n",
       "    </tr>\n",
       "    <tr>\n",
       "      <th>1</th>\n",
       "      <td>1001</td>\n",
       "      <td>8</td>\n",
       "      <td>160.0</td>\n",
       "    </tr>\n",
       "    <tr>\n",
       "      <th>2</th>\n",
       "      <td>1001</td>\n",
       "      <td>9</td>\n",
       "      <td>278.0</td>\n",
       "    </tr>\n",
       "    <tr>\n",
       "      <th>3</th>\n",
       "      <td>1001</td>\n",
       "      <td>10</td>\n",
       "      <td>348.0</td>\n",
       "    </tr>\n",
       "    <tr>\n",
       "      <th>4</th>\n",
       "      <td>1001</td>\n",
       "      <td>11</td>\n",
       "      <td>379.0</td>\n",
       "    </tr>\n",
       "    <tr>\n",
       "      <th>5</th>\n",
       "      <td>1001</td>\n",
       "      <td>12</td>\n",
       "      <td>368.0</td>\n",
       "    </tr>\n",
       "    <tr>\n",
       "      <th>6</th>\n",
       "      <td>1002</td>\n",
       "      <td>10</td>\n",
       "      <td>51.0</td>\n",
       "    </tr>\n",
       "    <tr>\n",
       "      <th>7</th>\n",
       "      <td>1002</td>\n",
       "      <td>11</td>\n",
       "      <td>338.0</td>\n",
       "    </tr>\n",
       "    <tr>\n",
       "      <th>8</th>\n",
       "      <td>1002</td>\n",
       "      <td>12</td>\n",
       "      <td>346.0</td>\n",
       "    </tr>\n",
       "    <tr>\n",
       "      <th>9</th>\n",
       "      <td>1003</td>\n",
       "      <td>12</td>\n",
       "      <td>987.0</td>\n",
       "    </tr>\n",
       "  </tbody>\n",
       "</table>\n",
       "</div>"
      ],
      "text/plain": [
       "   user_id  month  duration\n",
       "0     1000     12     108.0\n",
       "1     1001      8     160.0\n",
       "2     1001      9     278.0\n",
       "3     1001     10     348.0\n",
       "4     1001     11     379.0\n",
       "5     1001     12     368.0\n",
       "6     1002     10      51.0\n",
       "7     1002     11     338.0\n",
       "8     1002     12     346.0\n",
       "9     1003     12     987.0"
      ]
     },
     "metadata": {},
     "output_type": "display_data"
    },
    {
     "data": {
      "text/plain": [
       "array([[<AxesSubplot:title={'center':'duration'}>]], dtype=object)"
      ]
     },
     "metadata": {},
     "output_type": "display_data"
    },
    {
     "data": {
      "image/png": "[encoded data removed]",
      "text/plain": [
       "<Figure size 432x288 with 1 Axes>"
      ]
     },
     "metadata": {},
     "output_type": "display_data"
    }
   ],
   "source": [
    "# turn duration to int\n",
    "calls.duration = calls.duration.astype('int')\n",
    "\n",
    "# round up calls duration\n",
    "calls.duration = np.ceil(calls.duration)\n",
    "\n",
    "# Remove 0 velues \n",
    "#calls_zero_index = calls[calls['duration'] == 0].index\n",
    "#calls.drop(calls_zero_index, inplace = True)\n",
    "\n",
    "# add column of call month\n",
    "calls['call_date'] = pd.to_datetime(calls['call_date'], format='%Y-%m-%d')\n",
    "calls['month'] = calls['call_date'].dt.month\n",
    "\n",
    "# make pivot table by user id and month\n",
    "calls_pivot = calls.pivot_table(index = ['user_id','month'], values='duration', aggfunc = 'sum').reset_index()\n",
    "display(calls_pivot.head(10))\n",
    "\n",
    "#display the pivot_table after cleaning\n",
    "display(calls_pivot.hist('duration', bins = 20))\n",
    "\n"
   ]
  },
  {
   "cell_type": "markdown",
   "metadata": {},
   "source": [
    "##### Calls data observaions: after preprocessing, the histograms seems to show a normal distrubution \n"
   ]
  },
  {
   "cell_type": "markdown",
   "metadata": {},
   "source": [
    "<a class=\"anchor\" id=\"2.2\"></a>\n",
    "### Internet data\n",
    "- Create pivot table by user_id and month. \n",
    "- Rounde up data to mb in thousends.\n",
    "- Plot histogram."
   ]
  },
  {
   "cell_type": "code",
   "execution_count": 31,
   "metadata": {},
   "outputs": [
    {
     "data": {
      "text/html": [
       "<div>\n",
       "<style scoped>\n",
       "    .dataframe tbody tr th:only-of-type {\n",
       "        vertical-align: middle;\n",
       "    }\n",
       "\n",
       "    .dataframe tbody tr th {\n",
       "        vertical-align: top;\n",
       "    }\n",
       "\n",
       "    .dataframe thead th {\n",
       "        text-align: right;\n",
       "    }\n",
       "</style>\n",
       "<table border=\"1\" class=\"dataframe\">\n",
       "  <thead>\n",
       "    <tr style=\"text-align: right;\">\n",
       "      <th></th>\n",
       "      <th>user_id</th>\n",
       "      <th>month</th>\n",
       "      <th>mb_used</th>\n",
       "      <th>gb_used</th>\n",
       "    </tr>\n",
       "  </thead>\n",
       "  <tbody>\n",
       "    <tr>\n",
       "      <th>0</th>\n",
       "      <td>1000</td>\n",
       "      <td>12</td>\n",
       "      <td>1901.47</td>\n",
       "      <td>2.0</td>\n",
       "    </tr>\n",
       "    <tr>\n",
       "      <th>1</th>\n",
       "      <td>1001</td>\n",
       "      <td>8</td>\n",
       "      <td>6919.15</td>\n",
       "      <td>7.0</td>\n",
       "    </tr>\n",
       "    <tr>\n",
       "      <th>2</th>\n",
       "      <td>1001</td>\n",
       "      <td>9</td>\n",
       "      <td>13314.82</td>\n",
       "      <td>14.0</td>\n",
       "    </tr>\n",
       "    <tr>\n",
       "      <th>3</th>\n",
       "      <td>1001</td>\n",
       "      <td>10</td>\n",
       "      <td>22330.49</td>\n",
       "      <td>22.0</td>\n",
       "    </tr>\n",
       "    <tr>\n",
       "      <th>4</th>\n",
       "      <td>1001</td>\n",
       "      <td>11</td>\n",
       "      <td>18504.30</td>\n",
       "      <td>19.0</td>\n",
       "    </tr>\n",
       "    <tr>\n",
       "      <th>5</th>\n",
       "      <td>1001</td>\n",
       "      <td>12</td>\n",
       "      <td>19369.18</td>\n",
       "      <td>19.0</td>\n",
       "    </tr>\n",
       "    <tr>\n",
       "      <th>6</th>\n",
       "      <td>1002</td>\n",
       "      <td>10</td>\n",
       "      <td>6552.01</td>\n",
       "      <td>7.0</td>\n",
       "    </tr>\n",
       "    <tr>\n",
       "      <th>7</th>\n",
       "      <td>1002</td>\n",
       "      <td>11</td>\n",
       "      <td>19345.08</td>\n",
       "      <td>19.0</td>\n",
       "    </tr>\n",
       "    <tr>\n",
       "      <th>8</th>\n",
       "      <td>1002</td>\n",
       "      <td>12</td>\n",
       "      <td>14396.24</td>\n",
       "      <td>15.0</td>\n",
       "    </tr>\n",
       "    <tr>\n",
       "      <th>9</th>\n",
       "      <td>1003</td>\n",
       "      <td>12</td>\n",
       "      <td>27044.14</td>\n",
       "      <td>27.0</td>\n",
       "    </tr>\n",
       "  </tbody>\n",
       "</table>\n",
       "</div>"
      ],
      "text/plain": [
       "   user_id  month   mb_used  gb_used\n",
       "0     1000     12   1901.47      2.0\n",
       "1     1001      8   6919.15      7.0\n",
       "2     1001      9  13314.82     14.0\n",
       "3     1001     10  22330.49     22.0\n",
       "4     1001     11  18504.30     19.0\n",
       "5     1001     12  19369.18     19.0\n",
       "6     1002     10   6552.01      7.0\n",
       "7     1002     11  19345.08     19.0\n",
       "8     1002     12  14396.24     15.0\n",
       "9     1003     12  27044.14     27.0"
      ]
     },
     "metadata": {},
     "output_type": "display_data"
    },
    {
     "data": {
      "text/plain": [
       "array([[<AxesSubplot:title={'center':'gb_used'}>]], dtype=object)"
      ]
     },
     "execution_count": 31,
     "metadata": {},
     "output_type": "execute_result"
    },
    {
     "data": {
      "image/png": "[encoded data removed]",
      "text/plain": [
       "<Figure size 432x288 with 1 Axes>"
      ]
     },
     "metadata": {},
     "output_type": "display_data"
    },
    {
     "data": {
      "image/png": "[encoded data removed]",
      "text/plain": [
       "<Figure size 432x288 with 1 Axes>"
      ]
     },
     "metadata": {},
     "output_type": "display_data"
    },
    {
     "data": {
      "image/png": "[encoded data removed]",
      "text/plain": [
       "<Figure size 432x288 with 1 Axes>"
      ]
     },
     "metadata": {},
     "output_type": "display_data"
    }
   ],
   "source": [
    "# add column of usage by month\n",
    "internet['session_date'] = pd.to_datetime(internet['session_date'], format='%Y-%m-%d')\n",
    "internet['month'] = internet['session_date'].dt.month\n",
    "\n",
    "\n",
    "internet.hist('mb_used', bins = 20)\n",
    "\n",
    "# make a pivot table by user_id and month\n",
    "internet_pivot = internet.pivot_table(index = ['user_id','month'], values='mb_used', aggfunc = 'sum').reset_index()\n",
    "\n",
    "internet_pivot.hist('mb_used', bins = 20)\n",
    "\n",
    "\n",
    "### After review: Cancel this function\n",
    "# function to round up to mb in thousends\n",
    "#def roundup(x):\n",
    "#     return int(math.ceil(x / 1024.0)) * 1000\n",
    "# run the function \n",
    "#internet_pivot['mb_used'] = internet_pivot.mb_used.apply(lambda x: roundup(x))\n",
    "\n",
    "\n",
    "### After review: added a new column for gb_used, rounded up. \n",
    "internet_pivot['gb_used'] = internet_pivot['mb_used'] / 1024\n",
    "internet_pivot['gb_used'] = np.ceil(internet_pivot['gb_used'])\n",
    "\n",
    "# display pivot table and histogram\n",
    "display(internet_pivot.head(10))\n",
    "internet_pivot.hist('gb_used', bins = 20)\n"
   ]
  },
  {
   "cell_type": "markdown",
   "metadata": {},
   "source": [
    "#### internet data observaions: after preprocessing, the mean seems to be more centered, data is less skewed. "
   ]
  },
  {
   "cell_type": "markdown",
   "metadata": {},
   "source": [
    "<a class=\"anchor\" id=\"2.3\"></a>\n",
    "### Message data\n",
    "- Create pivot table by user_id and month. \n",
    "- the message_date will show the sum of total messages for each month.\n",
    "- Plot histogram."
   ]
  },
  {
   "cell_type": "code",
   "execution_count": 32,
   "metadata": {},
   "outputs": [
    {
     "data": {
      "text/html": [
       "<div>\n",
       "<style scoped>\n",
       "    .dataframe tbody tr th:only-of-type {\n",
       "        vertical-align: middle;\n",
       "    }\n",
       "\n",
       "    .dataframe tbody tr th {\n",
       "        vertical-align: top;\n",
       "    }\n",
       "\n",
       "    .dataframe thead th {\n",
       "        text-align: right;\n",
       "    }\n",
       "</style>\n",
       "<table border=\"1\" class=\"dataframe\">\n",
       "  <thead>\n",
       "    <tr style=\"text-align: right;\">\n",
       "      <th></th>\n",
       "      <th>user_id</th>\n",
       "      <th>month</th>\n",
       "      <th>message_date</th>\n",
       "    </tr>\n",
       "  </thead>\n",
       "  <tbody>\n",
       "    <tr>\n",
       "      <th>0</th>\n",
       "      <td>1000</td>\n",
       "      <td>12</td>\n",
       "      <td>11</td>\n",
       "    </tr>\n",
       "    <tr>\n",
       "      <th>1</th>\n",
       "      <td>1001</td>\n",
       "      <td>8</td>\n",
       "      <td>30</td>\n",
       "    </tr>\n",
       "    <tr>\n",
       "      <th>2</th>\n",
       "      <td>1001</td>\n",
       "      <td>9</td>\n",
       "      <td>44</td>\n",
       "    </tr>\n",
       "    <tr>\n",
       "      <th>3</th>\n",
       "      <td>1001</td>\n",
       "      <td>10</td>\n",
       "      <td>53</td>\n",
       "    </tr>\n",
       "    <tr>\n",
       "      <th>4</th>\n",
       "      <td>1001</td>\n",
       "      <td>11</td>\n",
       "      <td>36</td>\n",
       "    </tr>\n",
       "    <tr>\n",
       "      <th>5</th>\n",
       "      <td>1001</td>\n",
       "      <td>12</td>\n",
       "      <td>44</td>\n",
       "    </tr>\n",
       "    <tr>\n",
       "      <th>6</th>\n",
       "      <td>1002</td>\n",
       "      <td>10</td>\n",
       "      <td>15</td>\n",
       "    </tr>\n",
       "    <tr>\n",
       "      <th>7</th>\n",
       "      <td>1002</td>\n",
       "      <td>11</td>\n",
       "      <td>32</td>\n",
       "    </tr>\n",
       "    <tr>\n",
       "      <th>8</th>\n",
       "      <td>1002</td>\n",
       "      <td>12</td>\n",
       "      <td>41</td>\n",
       "    </tr>\n",
       "    <tr>\n",
       "      <th>9</th>\n",
       "      <td>1003</td>\n",
       "      <td>12</td>\n",
       "      <td>50</td>\n",
       "    </tr>\n",
       "  </tbody>\n",
       "</table>\n",
       "</div>"
      ],
      "text/plain": [
       "   user_id  month  message_date\n",
       "0     1000     12            11\n",
       "1     1001      8            30\n",
       "2     1001      9            44\n",
       "3     1001     10            53\n",
       "4     1001     11            36\n",
       "5     1001     12            44\n",
       "6     1002     10            15\n",
       "7     1002     11            32\n",
       "8     1002     12            41\n",
       "9     1003     12            50"
      ]
     },
     "metadata": {},
     "output_type": "display_data"
    },
    {
     "data": {
      "text/plain": [
       "array([[<AxesSubplot:title={'center':'message_date'}>]], dtype=object)"
      ]
     },
     "execution_count": 32,
     "metadata": {},
     "output_type": "execute_result"
    },
    {
     "data": {
      "image/png": "[encoded data removed]",
      "text/plain": [
       "<Figure size 432x288 with 1 Axes>"
      ]
     },
     "metadata": {},
     "output_type": "display_data"
    }
   ],
   "source": [
    "# add column of messages count by month\n",
    "messages['message_date'] = pd.to_datetime(messages['message_date'], format='%Y-%m-%d')\n",
    "messages['month'] = messages['message_date'].dt.month\n",
    "\n",
    "# create a pivot table by user_id and month\n",
    "messages_pivot = messages.pivot_table(index = ['user_id','month'], values='message_date', aggfunc = 'count').reset_index()\n",
    "\n",
    "# display pivot table and histograms\n",
    "display(messages_pivot.head(10))\n",
    "messages_pivot.hist('message_date', bins = 20)\n",
    "\n"
   ]
  },
  {
   "cell_type": "markdown",
   "metadata": {},
   "source": [
    "#### internet data observaions: after preprocessing, histogram shows skewed data."
   ]
  },
  {
   "cell_type": "markdown",
   "metadata": {},
   "source": [
    "<a class=\"anchor\" id=\"2.4\"></a>\n",
    "### Merge the data "
   ]
  },
  {
   "cell_type": "code",
   "execution_count": 33,
   "metadata": {},
   "outputs": [
    {
     "data": {
      "text/html": [
       "<div>\n",
       "<style scoped>\n",
       "    .dataframe tbody tr th:only-of-type {\n",
       "        vertical-align: middle;\n",
       "    }\n",
       "\n",
       "    .dataframe tbody tr th {\n",
       "        vertical-align: top;\n",
       "    }\n",
       "\n",
       "    .dataframe thead th {\n",
       "        text-align: right;\n",
       "    }\n",
       "</style>\n",
       "<table border=\"1\" class=\"dataframe\">\n",
       "  <thead>\n",
       "    <tr style=\"text-align: right;\">\n",
       "      <th></th>\n",
       "      <th>user_id</th>\n",
       "      <th>month</th>\n",
       "      <th>duration</th>\n",
       "      <th>mb_used</th>\n",
       "      <th>gb_used</th>\n",
       "      <th>message_date</th>\n",
       "      <th>plan</th>\n",
       "    </tr>\n",
       "  </thead>\n",
       "  <tbody>\n",
       "    <tr>\n",
       "      <th>0</th>\n",
       "      <td>1000</td>\n",
       "      <td>12</td>\n",
       "      <td>108.0</td>\n",
       "      <td>1901.47</td>\n",
       "      <td>2.0</td>\n",
       "      <td>11</td>\n",
       "      <td>ultimate</td>\n",
       "    </tr>\n",
       "    <tr>\n",
       "      <th>1</th>\n",
       "      <td>1001</td>\n",
       "      <td>8</td>\n",
       "      <td>160.0</td>\n",
       "      <td>6919.15</td>\n",
       "      <td>7.0</td>\n",
       "      <td>30</td>\n",
       "      <td>surf</td>\n",
       "    </tr>\n",
       "    <tr>\n",
       "      <th>2</th>\n",
       "      <td>1001</td>\n",
       "      <td>9</td>\n",
       "      <td>278.0</td>\n",
       "      <td>13314.82</td>\n",
       "      <td>14.0</td>\n",
       "      <td>44</td>\n",
       "      <td>surf</td>\n",
       "    </tr>\n",
       "    <tr>\n",
       "      <th>3</th>\n",
       "      <td>1001</td>\n",
       "      <td>10</td>\n",
       "      <td>348.0</td>\n",
       "      <td>22330.49</td>\n",
       "      <td>22.0</td>\n",
       "      <td>53</td>\n",
       "      <td>surf</td>\n",
       "    </tr>\n",
       "    <tr>\n",
       "      <th>4</th>\n",
       "      <td>1001</td>\n",
       "      <td>11</td>\n",
       "      <td>379.0</td>\n",
       "      <td>18504.30</td>\n",
       "      <td>19.0</td>\n",
       "      <td>36</td>\n",
       "      <td>surf</td>\n",
       "    </tr>\n",
       "    <tr>\n",
       "      <th>5</th>\n",
       "      <td>1001</td>\n",
       "      <td>12</td>\n",
       "      <td>368.0</td>\n",
       "      <td>19369.18</td>\n",
       "      <td>19.0</td>\n",
       "      <td>44</td>\n",
       "      <td>surf</td>\n",
       "    </tr>\n",
       "    <tr>\n",
       "      <th>6</th>\n",
       "      <td>1002</td>\n",
       "      <td>10</td>\n",
       "      <td>51.0</td>\n",
       "      <td>6552.01</td>\n",
       "      <td>7.0</td>\n",
       "      <td>15</td>\n",
       "      <td>surf</td>\n",
       "    </tr>\n",
       "    <tr>\n",
       "      <th>7</th>\n",
       "      <td>1002</td>\n",
       "      <td>11</td>\n",
       "      <td>338.0</td>\n",
       "      <td>19345.08</td>\n",
       "      <td>19.0</td>\n",
       "      <td>32</td>\n",
       "      <td>surf</td>\n",
       "    </tr>\n",
       "    <tr>\n",
       "      <th>8</th>\n",
       "      <td>1002</td>\n",
       "      <td>12</td>\n",
       "      <td>346.0</td>\n",
       "      <td>14396.24</td>\n",
       "      <td>15.0</td>\n",
       "      <td>41</td>\n",
       "      <td>surf</td>\n",
       "    </tr>\n",
       "    <tr>\n",
       "      <th>9</th>\n",
       "      <td>1003</td>\n",
       "      <td>12</td>\n",
       "      <td>987.0</td>\n",
       "      <td>27044.14</td>\n",
       "      <td>27.0</td>\n",
       "      <td>50</td>\n",
       "      <td>surf</td>\n",
       "    </tr>\n",
       "  </tbody>\n",
       "</table>\n",
       "</div>"
      ],
      "text/plain": [
       "   user_id  month  duration   mb_used  gb_used  message_date      plan\n",
       "0     1000     12     108.0   1901.47      2.0            11  ultimate\n",
       "1     1001      8     160.0   6919.15      7.0            30      surf\n",
       "2     1001      9     278.0  13314.82     14.0            44      surf\n",
       "3     1001     10     348.0  22330.49     22.0            53      surf\n",
       "4     1001     11     379.0  18504.30     19.0            36      surf\n",
       "5     1001     12     368.0  19369.18     19.0            44      surf\n",
       "6     1002     10      51.0   6552.01      7.0            15      surf\n",
       "7     1002     11     338.0  19345.08     19.0            32      surf\n",
       "8     1002     12     346.0  14396.24     15.0            41      surf\n",
       "9     1003     12     987.0  27044.14     27.0            50      surf"
      ]
     },
     "metadata": {},
     "output_type": "display_data"
    }
   ],
   "source": [
    "# Merge all data according to user_id \n",
    "\n",
    "# merge calls, internet and massages pivot plots\n",
    "data_frames = [calls_pivot, internet_pivot, messages_pivot]\n",
    "df_merged = reduce(lambda left,right: pd.merge(left,right, on = ['user_id', 'month']), data_frames)\n",
    "\n",
    "# merge plan package\n",
    "df_merged['plan'] = df_merged.user_id.map(users.set_index('user_id').plan)\n",
    "\n",
    "display(df_merged.head(10))"
   ]
  },
  {
   "cell_type": "markdown",
   "metadata": {},
   "source": [
    "<div class=\"alert alert-block alert-success\">\n",
    "<b>Well done!👍:</b> You have offered an interesting way to merge the dataframe. It is good that you use the methods of the functional programming in Python: map() and reduce() methods.\n",
    "</div> "
   ]
  },
  {
   "cell_type": "markdown",
   "metadata": {},
   "source": [
    "<a class=\"anchor\" id=\"2.41\"></a>\n",
    "### Check for duplicates"
   ]
  },
  {
   "cell_type": "code",
   "execution_count": 34,
   "metadata": {},
   "outputs": [
    {
     "name": "stdout",
     "output_type": "stream",
     "text": [
      "The number of duplicates is 0\n"
     ]
    }
   ],
   "source": [
    "### check for duplicates\n",
    "\n",
    "# a list of column names in order to drop duplicates.\n",
    "columns_names = ['duration', 'mb_used', 'message_date']\n",
    "\n",
    "print(\"The number of duplicates is\", df_merged.duplicated(subset = columns_names).sum())"
   ]
  },
  {
   "cell_type": "code",
   "execution_count": 35,
   "metadata": {},
   "outputs": [
    {
     "data": {
      "text/html": [
       "<div>\n",
       "<style scoped>\n",
       "    .dataframe tbody tr th:only-of-type {\n",
       "        vertical-align: middle;\n",
       "    }\n",
       "\n",
       "    .dataframe tbody tr th {\n",
       "        vertical-align: top;\n",
       "    }\n",
       "\n",
       "    .dataframe thead th {\n",
       "        text-align: right;\n",
       "    }\n",
       "</style>\n",
       "<table border=\"1\" class=\"dataframe\">\n",
       "  <thead>\n",
       "    <tr style=\"text-align: right;\">\n",
       "      <th></th>\n",
       "      <th>user_id</th>\n",
       "      <th>month</th>\n",
       "      <th>duration</th>\n",
       "      <th>mb_used</th>\n",
       "      <th>gb_used</th>\n",
       "      <th>message_date</th>\n",
       "      <th>plan</th>\n",
       "    </tr>\n",
       "  </thead>\n",
       "  <tbody>\n",
       "    <tr>\n",
       "      <th>0</th>\n",
       "      <td>1000</td>\n",
       "      <td>12</td>\n",
       "      <td>108.0</td>\n",
       "      <td>1901.47</td>\n",
       "      <td>2.0</td>\n",
       "      <td>11</td>\n",
       "      <td>ultimate</td>\n",
       "    </tr>\n",
       "    <tr>\n",
       "      <th>1</th>\n",
       "      <td>1001</td>\n",
       "      <td>8</td>\n",
       "      <td>160.0</td>\n",
       "      <td>6919.15</td>\n",
       "      <td>7.0</td>\n",
       "      <td>30</td>\n",
       "      <td>surf</td>\n",
       "    </tr>\n",
       "    <tr>\n",
       "      <th>2</th>\n",
       "      <td>1001</td>\n",
       "      <td>9</td>\n",
       "      <td>278.0</td>\n",
       "      <td>13314.82</td>\n",
       "      <td>14.0</td>\n",
       "      <td>44</td>\n",
       "      <td>surf</td>\n",
       "    </tr>\n",
       "    <tr>\n",
       "      <th>3</th>\n",
       "      <td>1001</td>\n",
       "      <td>10</td>\n",
       "      <td>348.0</td>\n",
       "      <td>22330.49</td>\n",
       "      <td>22.0</td>\n",
       "      <td>53</td>\n",
       "      <td>surf</td>\n",
       "    </tr>\n",
       "    <tr>\n",
       "      <th>4</th>\n",
       "      <td>1001</td>\n",
       "      <td>11</td>\n",
       "      <td>379.0</td>\n",
       "      <td>18504.30</td>\n",
       "      <td>19.0</td>\n",
       "      <td>36</td>\n",
       "      <td>surf</td>\n",
       "    </tr>\n",
       "    <tr>\n",
       "      <th>5</th>\n",
       "      <td>1001</td>\n",
       "      <td>12</td>\n",
       "      <td>368.0</td>\n",
       "      <td>19369.18</td>\n",
       "      <td>19.0</td>\n",
       "      <td>44</td>\n",
       "      <td>surf</td>\n",
       "    </tr>\n",
       "    <tr>\n",
       "      <th>6</th>\n",
       "      <td>1002</td>\n",
       "      <td>10</td>\n",
       "      <td>51.0</td>\n",
       "      <td>6552.01</td>\n",
       "      <td>7.0</td>\n",
       "      <td>15</td>\n",
       "      <td>surf</td>\n",
       "    </tr>\n",
       "    <tr>\n",
       "      <th>7</th>\n",
       "      <td>1002</td>\n",
       "      <td>11</td>\n",
       "      <td>338.0</td>\n",
       "      <td>19345.08</td>\n",
       "      <td>19.0</td>\n",
       "      <td>32</td>\n",
       "      <td>surf</td>\n",
       "    </tr>\n",
       "    <tr>\n",
       "      <th>8</th>\n",
       "      <td>1002</td>\n",
       "      <td>12</td>\n",
       "      <td>346.0</td>\n",
       "      <td>14396.24</td>\n",
       "      <td>15.0</td>\n",
       "      <td>41</td>\n",
       "      <td>surf</td>\n",
       "    </tr>\n",
       "    <tr>\n",
       "      <th>9</th>\n",
       "      <td>1003</td>\n",
       "      <td>12</td>\n",
       "      <td>987.0</td>\n",
       "      <td>27044.14</td>\n",
       "      <td>27.0</td>\n",
       "      <td>50</td>\n",
       "      <td>surf</td>\n",
       "    </tr>\n",
       "  </tbody>\n",
       "</table>\n",
       "</div>"
      ],
      "text/plain": [
       "   user_id  month  duration   mb_used  gb_used  message_date      plan\n",
       "0     1000     12     108.0   1901.47      2.0            11  ultimate\n",
       "1     1001      8     160.0   6919.15      7.0            30      surf\n",
       "2     1001      9     278.0  13314.82     14.0            44      surf\n",
       "3     1001     10     348.0  22330.49     22.0            53      surf\n",
       "4     1001     11     379.0  18504.30     19.0            36      surf\n",
       "5     1001     12     368.0  19369.18     19.0            44      surf\n",
       "6     1002     10      51.0   6552.01      7.0            15      surf\n",
       "7     1002     11     338.0  19345.08     19.0            32      surf\n",
       "8     1002     12     346.0  14396.24     15.0            41      surf\n",
       "9     1003     12     987.0  27044.14     27.0            50      surf"
      ]
     },
     "metadata": {},
     "output_type": "display_data"
    }
   ],
   "source": [
    "# check table after corrections\n",
    "display(df_merged.head(10))"
   ]
  },
  {
   "cell_type": "markdown",
   "metadata": {},
   "source": [
    "<a class=\"anchor\" id=\"2.5\"></a>\n",
    "### Clean outliars"
   ]
  },
  {
   "cell_type": "markdown",
   "metadata": {},
   "source": [
    "##### Use boxplots and IQR method to clean outliars"
   ]
  },
  {
   "cell_type": "code",
   "execution_count": 36,
   "metadata": {},
   "outputs": [],
   "source": [
    "#Boxplots:\n",
    "\n",
    "# Display boxplots to look for outliars for each column \n",
    "#df_merged.boxplot(column=['duration'])\n",
    "#plt.show()\n",
    "#df_merged.boxplot(column=['mb_used'])\n",
    "#plt.show()\n",
    "#df_merged.boxplot(column=['message_date'])"
   ]
  },
  {
   "cell_type": "code",
   "execution_count": 37,
   "metadata": {},
   "outputs": [],
   "source": [
    "#IQR method:\n",
    "\n",
    "# columns to check\n",
    "#parameters = ['duration', 'mb_used', 'message_date']\n",
    "\n",
    "# loop for outliars table\n",
    "#limits = []\n",
    "#for x in parameters:\n",
    "#    Q1 = df_merged[x].quantile(0.25)\n",
    "#    Q3 = df_merged[x].quantile(0.75)\n",
    "#    IQR = Q3 - Q1\n",
    "#    upper_fence = Q3 + 1.5*IQR\n",
    "#    lower_fence = Q1\n",
    "#    limits.append([x, upper_fence, lower_fence])\n",
    "\n",
    "#limits = pd.DataFrame(limits, columns = ['parameter', 'upper_fence', 'lower_fence'])\n",
    "#display(limits)\n",
    "\n",
    "# check the precentage of outliars\n",
    "#print('Percetange of outliars for duration, mb_used and messages (respectively) before drop():')\n",
    "#display(len(calls_pivot[calls_pivot['duration'] > 909 ]) / len(calls_pivot))\n",
    "#display(len(internet_pivot[internet_pivot['mb_used'] > 35500.0 ]) / len(internet_pivot))\n",
    "#display(len(messages_pivot[messages_pivot['message_date'] > 122.0]) / len(messages_pivot))\n",
    "\n",
    "# drop outliars\n",
    "#calls_pivot = calls_pivot.drop(index = calls_pivot[calls_pivot['duration'] > 909].index)\n",
    "#internet_pivot = internet_pivot.drop(index = internet_pivot[internet_pivot['mb_used'] > 35500.0].index)\n",
    "#messages_pivot = messages_pivot.drop(index = messages_pivot[messages_pivot['message_date'] > 122.0].index)"
   ]
  },
  {
   "cell_type": "markdown",
   "metadata": {},
   "source": [
    "we see that the number of outliars is small, less then 3.5% for each column of the data"
   ]
  },
  {
   "cell_type": "markdown",
   "metadata": {},
   "source": [
    "<div class=\"alert alert-block alert-warning\">\n",
    "<b>Remarks and tips📌:</b>  Nadav, it is better not to delete the 'outliers' as you call them from the data, because these values are not outliers but simply rare values, that you need to conduct the analysis correctly and get not biased results. If you delete these values in this concrete case you will loose valuable information about the users behaviour and consumption of the two tariffs' services, so finally you will get not very correct results. So, please, try to reconsider your actions here.Before fully trusting statistical graphs, it is very important to involve expert opinion and try to understand from the analyst's point of view what really are outliers and what are valuable data for analysis.\n",
    "</div>"
   ]
  },
  {
   "cell_type": "markdown",
   "metadata": {},
   "source": [
    "#### <font color='Purple'>Student's commentary:</font> </div>\n",
    "\n",
    "Great advice. According to the webinar I got the impression that if data is normally distributed, we can use this method to address extreme values as outliars. Obviously that is not the case (and it makes sense to me). Therfore cancel this method by useing comment. \n",
    "\n",
    "I kept the code for personal review."
   ]
  },
  {
   "cell_type": "markdown",
   "metadata": {},
   "source": [
    "<div class=\"alert alert-block alert-success\">\n",
    "    <h2>Reviewer's commentary: second iteration of the review</h2>\n",
    "<b>Well done!👍:</b> As for methods, you have used them correctly, and your impression from the webinar is right. We can use the concrete methods for identifying and removing the outliers and, of course, we can even do it absolutely legitimately, because, for example, our data meets the conditions in which some values can be considered 'outliers' from the statistical point of view. But what is important - is our understanding of the data nature and our analytical expertise that has to precede the application of specific methods. So, outliers are also a rather tricky and difficult thing in data analysis and the deep understanding what are outliers and what are not, delete them or not delete come with experience🙌\n",
    "\n",
    "I leave some materials about outliers for you, I hope they will be useful!👀\n",
    "\n",
    "https://statisticsbyjim.com/basics/remove-outliers/\n",
    "\n",
    "https://towardsdatascience.com/effect-of-outliers-in-classification-ed7e8b6d39f8\n",
    "\n",
    "https://www.theanalysisfactor.com/outliers-to-drop-or-not-to-drop/\n",
    "    \n",
    "</div>"
   ]
  },
  {
   "cell_type": "markdown",
   "metadata": {},
   "source": [
    "<a class=\"anchor\" id=\"3\"></a>\n",
    "\n",
    "## Step 3: Analyze the data"
   ]
  },
  {
   "cell_type": "markdown",
   "metadata": {},
   "source": [
    "<a class=\"anchor\" id=\"3.1\"></a>\n",
    "### Approach \n",
    "* Data is not stratified \n",
    "* The count of users increases with months. we can assume this pattern is similar in both packages:\n",
    "   - Therefore, We will simplify and treat the whole data at once, and won't split into months. \n",
    "   - This strategy due to the face that we compare the statistical values of 2 types of users by plan, and not looking for behavioral changes at different months. \n",
    "\n"
   ]
  },
  {
   "cell_type": "markdown",
   "metadata": {},
   "source": [
    "<a class=\"anchor\" id=\"3.2\"></a>\n",
    "### row function to profit calculation"
   ]
  },
  {
   "cell_type": "code",
   "execution_count": 38,
   "metadata": {},
   "outputs": [],
   "source": [
    "#  row function to calculate profit \n",
    "\n",
    "def profit_func(row):\n",
    "    duration = row['duration']\n",
    "    gb_used = row['gb_used']\n",
    "    massages = row['message_date']\n",
    "    \n",
    "    exrta_profit = 0\n",
    "    \n",
    "    if row['plan'] == 'surf':\n",
    "        profit = 20\n",
    "        if duration > 500:\n",
    "            profit += 0.03 * (duration - 500)\n",
    "        if gb_used > 15:\n",
    "            profit += 10 * ((gb_used - 15))\n",
    "        if massages > 50:\n",
    "            profit += 0.03 * (massages - 50)\n",
    "        \n",
    "    else:\n",
    "        profit = 70\n",
    "        if duration > 3000:\n",
    "            profit += 0.01 * (duration - 3000)\n",
    "        if gb_used > 30:\n",
    "            profit += 7 * ((gb_used - 30))\n",
    "        if massages > 1000:\n",
    "            profit += 0.01 * (massages - 1000)        \n",
    "            \n",
    "    return profit\n",
    "    "
   ]
  },
  {
   "cell_type": "code",
   "execution_count": 39,
   "metadata": {},
   "outputs": [],
   "source": [
    "# add profit column\n",
    "df_merged['profit'] = df_merged.apply(profit_func, axis = 1)"
   ]
  },
  {
   "cell_type": "markdown",
   "metadata": {},
   "source": [
    "<div class=\"alert alert-block alert-warning\">\n",
    "<b>Remarks and tips📌:</b>  Ok, here the logic of the calculations seems to be correct, but in case of megabytes again, you have devided the value on 1000, but there are 1024 megabytes in one gigabyte, so, please, be more attentive to this moment!👀\n",
    "</div>"
   ]
  },
  {
   "cell_type": "markdown",
   "metadata": {},
   "source": [
    "#### <font color='Purple'>Student's commentary:</font> </div>\n",
    "\n",
    "Right. So my approach on this one was to add a new column 'gb_used' at the original internet_pivot table (I comment the roundup function because it was not adequate to round up the mb by the thousends). The result here is more elegant then converting in the function section."
   ]
  },
  {
   "cell_type": "markdown",
   "metadata": {},
   "source": [
    "<div class=\"alert alert-block alert-success\">\n",
    "    <h2>Reviewer's commentary: second iteration of the review</h2>\n",
    "<b>Well done!👍:</b> Ok, great job!\n",
    "    \n",
    "</div>"
   ]
  },
  {
   "cell_type": "markdown",
   "metadata": {},
   "source": [
    "<a class=\"anchor\" id=\"3.3\"></a>\n",
    "### Edit the table for profit analysis "
   ]
  },
  {
   "cell_type": "code",
   "execution_count": 40,
   "metadata": {},
   "outputs": [
    {
     "data": {
      "text/html": [
       "<div>\n",
       "<style scoped>\n",
       "    .dataframe tbody tr th:only-of-type {\n",
       "        vertical-align: middle;\n",
       "    }\n",
       "\n",
       "    .dataframe tbody tr th {\n",
       "        vertical-align: top;\n",
       "    }\n",
       "\n",
       "    .dataframe thead th {\n",
       "        text-align: right;\n",
       "    }\n",
       "</style>\n",
       "<table border=\"1\" class=\"dataframe\">\n",
       "  <thead>\n",
       "    <tr style=\"text-align: right;\">\n",
       "      <th></th>\n",
       "      <th>user_id</th>\n",
       "      <th>month</th>\n",
       "      <th>duration</th>\n",
       "      <th>mb_used</th>\n",
       "      <th>gb_used</th>\n",
       "      <th>messages</th>\n",
       "      <th>plan</th>\n",
       "      <th>profit</th>\n",
       "    </tr>\n",
       "  </thead>\n",
       "  <tbody>\n",
       "    <tr>\n",
       "      <th>0</th>\n",
       "      <td>1000</td>\n",
       "      <td>12</td>\n",
       "      <td>108.0</td>\n",
       "      <td>1901.47</td>\n",
       "      <td>2.0</td>\n",
       "      <td>11</td>\n",
       "      <td>ultimate</td>\n",
       "      <td>70.00</td>\n",
       "    </tr>\n",
       "    <tr>\n",
       "      <th>1</th>\n",
       "      <td>1001</td>\n",
       "      <td>8</td>\n",
       "      <td>160.0</td>\n",
       "      <td>6919.15</td>\n",
       "      <td>7.0</td>\n",
       "      <td>30</td>\n",
       "      <td>surf</td>\n",
       "      <td>20.00</td>\n",
       "    </tr>\n",
       "    <tr>\n",
       "      <th>2</th>\n",
       "      <td>1001</td>\n",
       "      <td>9</td>\n",
       "      <td>278.0</td>\n",
       "      <td>13314.82</td>\n",
       "      <td>14.0</td>\n",
       "      <td>44</td>\n",
       "      <td>surf</td>\n",
       "      <td>20.00</td>\n",
       "    </tr>\n",
       "    <tr>\n",
       "      <th>3</th>\n",
       "      <td>1001</td>\n",
       "      <td>10</td>\n",
       "      <td>348.0</td>\n",
       "      <td>22330.49</td>\n",
       "      <td>22.0</td>\n",
       "      <td>53</td>\n",
       "      <td>surf</td>\n",
       "      <td>90.09</td>\n",
       "    </tr>\n",
       "    <tr>\n",
       "      <th>4</th>\n",
       "      <td>1001</td>\n",
       "      <td>11</td>\n",
       "      <td>379.0</td>\n",
       "      <td>18504.30</td>\n",
       "      <td>19.0</td>\n",
       "      <td>36</td>\n",
       "      <td>surf</td>\n",
       "      <td>60.00</td>\n",
       "    </tr>\n",
       "  </tbody>\n",
       "</table>\n",
       "</div>"
      ],
      "text/plain": [
       "   user_id  month  duration   mb_used  gb_used  messages      plan  profit\n",
       "0     1000     12     108.0   1901.47      2.0        11  ultimate   70.00\n",
       "1     1001      8     160.0   6919.15      7.0        30      surf   20.00\n",
       "2     1001      9     278.0  13314.82     14.0        44      surf   20.00\n",
       "3     1001     10     348.0  22330.49     22.0        53      surf   90.09\n",
       "4     1001     11     379.0  18504.30     19.0        36      surf   60.00"
      ]
     },
     "metadata": {},
     "output_type": "display_data"
    }
   ],
   "source": [
    "# Renaming columns\n",
    "df_merged.columns = ['user_id', 'month', 'duration', 'mb_used', 'gb_used', 'messages', 'plan', 'profit']\n",
    "\n",
    "display(df_merged.head())"
   ]
  },
  {
   "cell_type": "markdown",
   "metadata": {},
   "source": [
    "<div class=\"alert alert-block alert-warning\">\n",
    "<b>Remarks and tips📌:</b>  Nadav, there are 1024 megabytes in one gigabyte, so here we need to divide not by 1000, but by 1024\n",
    "</div>"
   ]
  },
  {
   "cell_type": "markdown",
   "metadata": {},
   "source": [
    "<a class=\"anchor\" id=\"3.4\"></a>\n",
    "### add city to each user_id "
   ]
  },
  {
   "cell_type": "code",
   "execution_count": 41,
   "metadata": {},
   "outputs": [],
   "source": [
    "\n",
    "# merge the df with city data for each user\n",
    "df_merged['city'] = df_merged.user_id.map(users.set_index('user_id').city)\n",
    "\n",
    "# After review: make a copy of the table and seperate ny-nj from other cities\n",
    "df_merged_NY_NJ = df_merged.copy()\n",
    "df_merged_NY_NJ.city = df_merged_NY_NJ.city.apply(lambda x: 'NY-NJ' if x == 'New York-Newark-Jersey City, NY-NJ-PA MSA' else 'Other')\n",
    "\n"
   ]
  },
  {
   "cell_type": "markdown",
   "metadata": {},
   "source": [
    "<a class=\"anchor\" id=\"3.5\"></a>\n",
    "### Functions for plotting histograms and calculate statistics"
   ]
  },
  {
   "cell_type": "code",
   "execution_count": 42,
   "metadata": {},
   "outputs": [],
   "source": [
    "# create df for each plan\n",
    "df_surf = df_merged[df_merged['plan'] == 'surf']\n",
    "df_ultimate = df_merged[df_merged['plan'] == 'ultimate']\n",
    "\n",
    "\n",
    "# function: plot histograms for each column\n",
    "def plot_hist(df):\n",
    "        display(df.hist('duration', bins = 100, range = (0,1500), color='forestgreen'))      \n",
    "        display(df.hist('gb_used', bins = 50, range = (0,50), color='darkviolet'))        \n",
    "        display(df.hist('messages', bins = 100, range = (0,300), color='indianred'))\n",
    "        display(df.hist('profit', bins = 10, range = (0,200), color='gold'))\n",
    "\n",
    "              \n",
    "# funcion: calculate stats: mean, median, std        \n",
    "def calculate_stat(df):\n",
    "        \n",
    "        # mean\n",
    "        calls_mean = df.duration.mean()\n",
    "        internet_mean = df.gb_used.mean()\n",
    "        messages_mean = df.messages.mean()\n",
    "        profit_mean = df.profit.mean()\n",
    "        \n",
    "        # median\n",
    "        calls_median = df.duration.median()\n",
    "        internet_median = df.gb_used.median()\n",
    "        messages_median = df.messages.median()        \n",
    "        profit_median = df.profit.median()\n",
    "        \n",
    "        # std\n",
    "        calls_std = np.std(df.duration)\n",
    "        internet_std = np.std(df.gb_used)\n",
    "        messages_std = np.std(df.messages)\n",
    "        profit_std = np.std(df.profit)\n",
    "        \n",
    "        # print results\n",
    "        print('Calls duraion per month stats:\\n average: {:.1f}, std: {:.1f}, median: {:.1f}'.format(calls_mean, calls_std ,calls_median))\n",
    "        print('Internet per month stats:\\n average: {:.1f}, std: {:.1f}, median: {:.1f}'.format(internet_mean, internet_std ,internet_median))\n",
    "        print('Messages per month stats::\\n average: {:.1f}, std: {:.1f}, median: {:.1f}'.format( messages_mean, messages_std ,messages_median))\n",
    "        print('Profit per month stats::\\n average: {:.1f}, std: {:.1f}, median: {:.1f}'.format( profit_mean, profit_std ,profit_median))\n",
    "        \n",
    "        "
   ]
  },
  {
   "cell_type": "markdown",
   "metadata": {},
   "source": [
    "<a class=\"anchor\" id=\"3.6\"></a>\n",
    "### Analysis: how many users from each plan exceed plan's limit"
   ]
  },
  {
   "cell_type": "code",
   "execution_count": 43,
   "metadata": {},
   "outputs": [
    {
     "name": "stdout",
     "output_type": "stream",
     "text": [
      "Percentage of surf users who exceed the plan: 73.1%\n",
      "Percentage of ultimate users who exceed the plan: 5.7%\n",
      "\n",
      "\n",
      "The average monthly profit from surf plan is: 59.7$\n",
      "The average monthly profit from ultimate plan is: 72.2$\n"
     ]
    }
   ],
   "source": [
    "surf_extra = len(df_surf.query('profit > 20')) / len(df_surf)\n",
    "ultimate_extra = len(df_ultimate.query('profit > 70')) / len(df_ultimate)\n",
    "print('Percentage of surf users who exceed the plan: {:.1%}'.format(surf_extra))\n",
    "print('Percentage of ultimate users who exceed the plan: {:.1%}'.format(ultimate_extra))\n",
    "print('\\n')\n",
    "print('The average monthly profit from surf plan is: {:.1f}$'.format(df_surf.profit.mean()))\n",
    "print('The average monthly profit from ultimate plan is: {:.1f}$'.format(df_ultimate.profit.mean()))"
   ]
  },
  {
   "cell_type": "markdown",
   "metadata": {},
   "source": [
    "##### *Conclusion: We see that surf package users significanly exceed the package limit in compare to the ultimate plan users*"
   ]
  },
  {
   "cell_type": "markdown",
   "metadata": {},
   "source": [
    "<a class=\"anchor\" id=\"3.7\"></a>\n",
    "### Analysis:  Profit veriations by month"
   ]
  },
  {
   "cell_type": "code",
   "execution_count": 44,
   "metadata": {},
   "outputs": [
    {
     "data": {
      "text/plain": [
       "<bound method NDFrame.head of           profit\n",
       "month           \n",
       "1      57.500000\n",
       "2      46.693000\n",
       "3      50.282609\n",
       "4      50.371961\n",
       "5      55.906081\n",
       "6      58.594299\n",
       "7      64.920221\n",
       "8      66.532500\n",
       "9      61.382202\n",
       "10     67.089517\n",
       "11     61.387937\n",
       "12     69.487197>"
      ]
     },
     "metadata": {},
     "output_type": "display_data"
    }
   ],
   "source": [
    "\n",
    "# USE THESE in preliminary analysis to show that it goes up by month, better to generlize the whole year.\n",
    "\n",
    "df_profit_by_month = df_merged.pivot_table(index = 'month', values = 'profit', aggfunc = 'mean')\n",
    "display(df_profit_by_month.head)"
   ]
  },
  {
   "cell_type": "markdown",
   "metadata": {},
   "source": [
    "#### *Conclusion: We see that profit goes up by month. We will analyse the data as a whole for both groups in order to keep it simple."
   ]
  },
  {
   "cell_type": "markdown",
   "metadata": {},
   "source": [
    "<a class=\"anchor\" id=\"3.8\"></a>\n",
    "### Surf plan analysis"
   ]
  },
  {
   "cell_type": "code",
   "execution_count": 45,
   "metadata": {},
   "outputs": [
    {
     "name": "stdout",
     "output_type": "stream",
     "text": [
      "surf plan stats:\n"
     ]
    },
    {
     "data": {
      "text/html": [
       "<div>\n",
       "<style scoped>\n",
       "    .dataframe tbody tr th:only-of-type {\n",
       "        vertical-align: middle;\n",
       "    }\n",
       "\n",
       "    .dataframe tbody tr th {\n",
       "        vertical-align: top;\n",
       "    }\n",
       "\n",
       "    .dataframe thead th {\n",
       "        text-align: right;\n",
       "    }\n",
       "</style>\n",
       "<table border=\"1\" class=\"dataframe\">\n",
       "  <thead>\n",
       "    <tr style=\"text-align: right;\">\n",
       "      <th></th>\n",
       "      <th>user_id</th>\n",
       "      <th>month</th>\n",
       "      <th>duration</th>\n",
       "      <th>mb_used</th>\n",
       "      <th>gb_used</th>\n",
       "      <th>messages</th>\n",
       "      <th>profit</th>\n",
       "    </tr>\n",
       "  </thead>\n",
       "  <tbody>\n",
       "    <tr>\n",
       "      <th>count</th>\n",
       "      <td>1180.000000</td>\n",
       "      <td>1180.000000</td>\n",
       "      <td>1180.000000</td>\n",
       "      <td>1180.000000</td>\n",
       "      <td>1180.000000</td>\n",
       "      <td>1180.000000</td>\n",
       "      <td>1180.000000</td>\n",
       "    </tr>\n",
       "    <tr>\n",
       "      <th>mean</th>\n",
       "      <td>1243.751695</td>\n",
       "      <td>9.272881</td>\n",
       "      <td>396.179661</td>\n",
       "      <td>16629.018297</td>\n",
       "      <td>16.752542</td>\n",
       "      <td>39.489831</td>\n",
       "      <td>59.651017</td>\n",
       "    </tr>\n",
       "    <tr>\n",
       "      <th>std</th>\n",
       "      <td>133.895172</td>\n",
       "      <td>2.417797</td>\n",
       "      <td>209.878930</td>\n",
       "      <td>7714.281647</td>\n",
       "      <td>7.550662</td>\n",
       "      <td>32.314360</td>\n",
       "      <td>53.293563</td>\n",
       "    </tr>\n",
       "    <tr>\n",
       "      <th>min</th>\n",
       "      <td>1001.000000</td>\n",
       "      <td>1.000000</td>\n",
       "      <td>1.000000</td>\n",
       "      <td>92.310000</td>\n",
       "      <td>1.000000</td>\n",
       "      <td>1.000000</td>\n",
       "      <td>20.000000</td>\n",
       "    </tr>\n",
       "    <tr>\n",
       "      <th>25%</th>\n",
       "      <td>1127.000000</td>\n",
       "      <td>8.000000</td>\n",
       "      <td>255.000000</td>\n",
       "      <td>12382.467500</td>\n",
       "      <td>13.000000</td>\n",
       "      <td>16.000000</td>\n",
       "      <td>20.000000</td>\n",
       "    </tr>\n",
       "    <tr>\n",
       "      <th>50%</th>\n",
       "      <td>1251.000000</td>\n",
       "      <td>10.000000</td>\n",
       "      <td>390.000000</td>\n",
       "      <td>16869.300000</td>\n",
       "      <td>17.000000</td>\n",
       "      <td>32.000000</td>\n",
       "      <td>40.240000</td>\n",
       "    </tr>\n",
       "    <tr>\n",
       "      <th>75%</th>\n",
       "      <td>1350.000000</td>\n",
       "      <td>11.000000</td>\n",
       "      <td>523.000000</td>\n",
       "      <td>20918.390000</td>\n",
       "      <td>21.000000</td>\n",
       "      <td>53.000000</td>\n",
       "      <td>80.000000</td>\n",
       "    </tr>\n",
       "    <tr>\n",
       "      <th>max</th>\n",
       "      <td>1496.000000</td>\n",
       "      <td>12.000000</td>\n",
       "      <td>1344.000000</td>\n",
       "      <td>70931.590000</td>\n",
       "      <td>70.000000</td>\n",
       "      <td>266.000000</td>\n",
       "      <td>586.980000</td>\n",
       "    </tr>\n",
       "  </tbody>\n",
       "</table>\n",
       "</div>"
      ],
      "text/plain": [
       "           user_id        month     duration       mb_used      gb_used  \\\n",
       "count  1180.000000  1180.000000  1180.000000   1180.000000  1180.000000   \n",
       "mean   1243.751695     9.272881   396.179661  16629.018297    16.752542   \n",
       "std     133.895172     2.417797   209.878930   7714.281647     7.550662   \n",
       "min    1001.000000     1.000000     1.000000     92.310000     1.000000   \n",
       "25%    1127.000000     8.000000   255.000000  12382.467500    13.000000   \n",
       "50%    1251.000000    10.000000   390.000000  16869.300000    17.000000   \n",
       "75%    1350.000000    11.000000   523.000000  20918.390000    21.000000   \n",
       "max    1496.000000    12.000000  1344.000000  70931.590000    70.000000   \n",
       "\n",
       "          messages       profit  \n",
       "count  1180.000000  1180.000000  \n",
       "mean     39.489831    59.651017  \n",
       "std      32.314360    53.293563  \n",
       "min       1.000000    20.000000  \n",
       "25%      16.000000    20.000000  \n",
       "50%      32.000000    40.240000  \n",
       "75%      53.000000    80.000000  \n",
       "max     266.000000   586.980000  "
      ]
     },
     "metadata": {},
     "output_type": "display_data"
    },
    {
     "name": "stdout",
     "output_type": "stream",
     "text": [
      "Calls duraion per month stats:\n",
      " average: 396.2, std: 209.8, median: 390.0\n",
      "Internet per month stats:\n",
      " average: 16.8, std: 7.5, median: 17.0\n",
      "Messages per month stats::\n",
      " average: 39.5, std: 32.3, median: 32.0\n",
      "Profit per month stats::\n",
      " average: 59.7, std: 53.3, median: 40.2\n"
     ]
    },
    {
     "data": {
      "text/plain": [
       "array([[<AxesSubplot:title={'center':'duration'}>]], dtype=object)"
      ]
     },
     "metadata": {},
     "output_type": "display_data"
    },
    {
     "data": {
      "text/plain": [
       "array([[<AxesSubplot:title={'center':'gb_used'}>]], dtype=object)"
      ]
     },
     "metadata": {},
     "output_type": "display_data"
    },
    {
     "data": {
      "text/plain": [
       "array([[<AxesSubplot:title={'center':'messages'}>]], dtype=object)"
      ]
     },
     "metadata": {},
     "output_type": "display_data"
    },
    {
     "data": {
      "text/plain": [
       "array([[<AxesSubplot:title={'center':'profit'}>]], dtype=object)"
      ]
     },
     "metadata": {},
     "output_type": "display_data"
    },
    {
     "data": {
      "image/png": "[encoded data removed]",
      "text/plain": [
       "<Figure size 432x288 with 1 Axes>"
      ]
     },
     "metadata": {},
     "output_type": "display_data"
    },
    {
     "data": {
      "image/png": "[encoded data removed]",
      "text/plain": [
       "<Figure size 432x288 with 1 Axes>"
      ]
     },
     "metadata": {},
     "output_type": "display_data"
    },
    {
     "data": {
      "image/png": "[encoded data removed]",
      "text/plain": [
       "<Figure size 432x288 with 1 Axes>"
      ]
     },
     "metadata": {},
     "output_type": "display_data"
    },
    {
     "data": {
      "image/png": "[encoded data removed]",
      "text/plain": [
       "<Figure size 432x288 with 1 Axes>"
      ]
     },
     "metadata": {},
     "output_type": "display_data"
    }
   ],
   "source": [
    "# surf plan stats\n",
    "print('surf plan stats:')\n",
    "display(df_surf.describe())\n",
    "calculate_stat(df_surf)\n",
    "plot_hist(df_surf)\n"
   ]
  },
  {
   "cell_type": "code",
   "execution_count": 46,
   "metadata": {},
   "outputs": [
    {
     "data": {
      "text/plain": [
       "0.288135593220339"
      ]
     },
     "metadata": {},
     "output_type": "display_data"
    },
    {
     "data": {
      "text/plain": [
       "0.5898305084745763"
      ]
     },
     "metadata": {},
     "output_type": "display_data"
    },
    {
     "data": {
      "text/plain": [
       "0.26949152542372884"
      ]
     },
     "metadata": {},
     "output_type": "display_data"
    }
   ],
   "source": [
    "exceed_calls_surf = len(df_surf[df_surf['duration'] > 500]) / len(df_surf)\n",
    "exceed_gb_surf = len(df_surf[df_surf['gb_used'] > 15]) / len(df_surf)\n",
    "exceed_messages_surf = len(df_surf[df_surf['messages'] > 50]) / len(df_surf)\n",
    "\n",
    "display(exceed_calls_surf, exceed_gb_surf, exceed_messages_surf)"
   ]
  },
  {
   "cell_type": "markdown",
   "metadata": {},
   "source": [
    "#### *Observations for surf plan*\n",
    "\n",
    "##### Calls:\n",
    "we see that calls duration stats are: average 387.9, std: 204.5, median: 382.0\n",
    "The mean and the median have similar values, with less then 5% of 1 std difference, meaning that the data is not skewed. \n",
    "However, the std of 204.5 show there is a big dispersion in data values. \n",
    "The histogram plot also shows a normal distribution, as expected from the close values of mean and median.\n",
    "##### Internet usage:\n",
    "we see that calls duration stats are: average: average: 17.2, std: 7.9, median: 17.0\n",
    "The mean and the median have similar values, with less then 5% of 1 std difference, meaning that the data is not skewed. \n",
    "However, the std of 7.9 show there is a big dispersion in data values. \n",
    "The histogram plot also shows a normal distribution, as expected from the close values of mean and median. \n",
    "##### Messages sent:\n",
    "we see that calls duration stats are: average: 40.1, std: 33.0, median: 32.0\n",
    "The mean and the median have relatvely similar values, with less then 30% of 1 std difference. \n",
    "However, the std of 33.0 show there is a big dispersion in data values. \n",
    "The histogram plot also shows a skewed to the right distribution pattern.\n",
    "interpretaion: we cannot treat the messages data as normally distrubited when determine hypothesis test type for messages data. \n",
    "\n",
    "##### Profit:\n",
    "we see that profit stats are: average: 60.0, std: 55.1, median: 40.0.\n",
    "The std of 33.0 show there is a big dispersion in data values. \n",
    "\n",
    "\n",
    "#### Statistics summary: \n",
    "For hypothesis tests:\n",
    "- Test calls as normally disturbted data.\n",
    "- Test internet useage as normally disturbted data.\n",
    "- Test messages and profit data are skewed"
   ]
  },
  {
   "cell_type": "markdown",
   "metadata": {},
   "source": [
    "#### <font color='Purple'> Conclusions and costumer behaviour for surf users:</font> </div>\n",
    "\n",
    "* We see that over 70% of the surf users exceed their package limit, with an averge of 60.0 dollars per month! \n",
    "* These numbers show a profit which is triple then the basic package price. It should alert us about the pricing of the package, as obviously, most users won't be thrilled with getting a bills much higher then their base price each month.\n",
    "\n",
    "* We see that the category which users exceeds most is the internet package, where over 50% of the surf users exceed the basic 15gb limit, and this is probably the main reason for the big profit numbers we get.\n",
    "\n",
    "\n"
   ]
  },
  {
   "cell_type": "markdown",
   "metadata": {},
   "source": [
    "<a class=\"anchor\" id=\"3.9\"></a>\n",
    "### Ultimate plan analysis"
   ]
  },
  {
   "cell_type": "code",
   "execution_count": 47,
   "metadata": {},
   "outputs": [
    {
     "name": "stdout",
     "output_type": "stream",
     "text": [
      "\n",
      "ultimate plan stats:\n"
     ]
    },
    {
     "data": {
      "text/html": [
       "<div>\n",
       "<style scoped>\n",
       "    .dataframe tbody tr th:only-of-type {\n",
       "        vertical-align: middle;\n",
       "    }\n",
       "\n",
       "    .dataframe tbody tr th {\n",
       "        vertical-align: top;\n",
       "    }\n",
       "\n",
       "    .dataframe thead th {\n",
       "        text-align: right;\n",
       "    }\n",
       "</style>\n",
       "<table border=\"1\" class=\"dataframe\">\n",
       "  <thead>\n",
       "    <tr style=\"text-align: right;\">\n",
       "      <th></th>\n",
       "      <th>user_id</th>\n",
       "      <th>month</th>\n",
       "      <th>duration</th>\n",
       "      <th>mb_used</th>\n",
       "      <th>gb_used</th>\n",
       "      <th>messages</th>\n",
       "      <th>profit</th>\n",
       "    </tr>\n",
       "  </thead>\n",
       "  <tbody>\n",
       "    <tr>\n",
       "      <th>count</th>\n",
       "      <td>579.000000</td>\n",
       "      <td>579.000000</td>\n",
       "      <td>579.000000</td>\n",
       "      <td>579.000000</td>\n",
       "      <td>579.000000</td>\n",
       "      <td>579.000000</td>\n",
       "      <td>579.000000</td>\n",
       "    </tr>\n",
       "    <tr>\n",
       "      <th>mean</th>\n",
       "      <td>1247.442142</td>\n",
       "      <td>9.241796</td>\n",
       "      <td>393.006908</td>\n",
       "      <td>17250.995838</td>\n",
       "      <td>17.343696</td>\n",
       "      <td>46.455959</td>\n",
       "      <td>72.248705</td>\n",
       "    </tr>\n",
       "    <tr>\n",
       "      <th>std</th>\n",
       "      <td>149.775881</td>\n",
       "      <td>2.492254</td>\n",
       "      <td>222.435528</td>\n",
       "      <td>7687.033067</td>\n",
       "      <td>7.494935</td>\n",
       "      <td>32.930135</td>\n",
       "      <td>11.034406</td>\n",
       "    </tr>\n",
       "    <tr>\n",
       "      <th>min</th>\n",
       "      <td>1000.000000</td>\n",
       "      <td>1.000000</td>\n",
       "      <td>0.000000</td>\n",
       "      <td>290.060000</td>\n",
       "      <td>1.000000</td>\n",
       "      <td>1.000000</td>\n",
       "      <td>70.000000</td>\n",
       "    </tr>\n",
       "    <tr>\n",
       "      <th>25%</th>\n",
       "      <td>1126.000000</td>\n",
       "      <td>8.000000</td>\n",
       "      <td>232.000000</td>\n",
       "      <td>12709.450000</td>\n",
       "      <td>13.000000</td>\n",
       "      <td>21.000000</td>\n",
       "      <td>70.000000</td>\n",
       "    </tr>\n",
       "    <tr>\n",
       "      <th>50%</th>\n",
       "      <td>1236.000000</td>\n",
       "      <td>10.000000</td>\n",
       "      <td>376.000000</td>\n",
       "      <td>16867.460000</td>\n",
       "      <td>17.000000</td>\n",
       "      <td>41.000000</td>\n",
       "      <td>70.000000</td>\n",
       "    </tr>\n",
       "    <tr>\n",
       "      <th>75%</th>\n",
       "      <td>1389.500000</td>\n",
       "      <td>11.000000</td>\n",
       "      <td>517.000000</td>\n",
       "      <td>20883.600000</td>\n",
       "      <td>21.000000</td>\n",
       "      <td>66.000000</td>\n",
       "      <td>70.000000</td>\n",
       "    </tr>\n",
       "    <tr>\n",
       "      <th>max</th>\n",
       "      <td>1497.000000</td>\n",
       "      <td>12.000000</td>\n",
       "      <td>1217.000000</td>\n",
       "      <td>46595.330000</td>\n",
       "      <td>46.000000</td>\n",
       "      <td>166.000000</td>\n",
       "      <td>182.000000</td>\n",
       "    </tr>\n",
       "  </tbody>\n",
       "</table>\n",
       "</div>"
      ],
      "text/plain": [
       "           user_id       month     duration       mb_used     gb_used  \\\n",
       "count   579.000000  579.000000   579.000000    579.000000  579.000000   \n",
       "mean   1247.442142    9.241796   393.006908  17250.995838   17.343696   \n",
       "std     149.775881    2.492254   222.435528   7687.033067    7.494935   \n",
       "min    1000.000000    1.000000     0.000000    290.060000    1.000000   \n",
       "25%    1126.000000    8.000000   232.000000  12709.450000   13.000000   \n",
       "50%    1236.000000   10.000000   376.000000  16867.460000   17.000000   \n",
       "75%    1389.500000   11.000000   517.000000  20883.600000   21.000000   \n",
       "max    1497.000000   12.000000  1217.000000  46595.330000   46.000000   \n",
       "\n",
       "         messages      profit  \n",
       "count  579.000000  579.000000  \n",
       "mean    46.455959   72.248705  \n",
       "std     32.930135   11.034406  \n",
       "min      1.000000   70.000000  \n",
       "25%     21.000000   70.000000  \n",
       "50%     41.000000   70.000000  \n",
       "75%     66.000000   70.000000  \n",
       "max    166.000000  182.000000  "
      ]
     },
     "metadata": {},
     "output_type": "display_data"
    },
    {
     "name": "stdout",
     "output_type": "stream",
     "text": [
      "Calls duraion per month stats:\n",
      " average: 393.0, std: 222.2, median: 376.0\n",
      "Internet per month stats:\n",
      " average: 17.3, std: 7.5, median: 17.0\n",
      "Messages per month stats::\n",
      " average: 46.5, std: 32.9, median: 41.0\n",
      "Profit per month stats::\n",
      " average: 72.2, std: 11.0, median: 70.0\n"
     ]
    },
    {
     "data": {
      "text/plain": [
       "array([[<AxesSubplot:title={'center':'duration'}>]], dtype=object)"
      ]
     },
     "metadata": {},
     "output_type": "display_data"
    },
    {
     "data": {
      "text/plain": [
       "array([[<AxesSubplot:title={'center':'gb_used'}>]], dtype=object)"
      ]
     },
     "metadata": {},
     "output_type": "display_data"
    },
    {
     "data": {
      "text/plain": [
       "array([[<AxesSubplot:title={'center':'messages'}>]], dtype=object)"
      ]
     },
     "metadata": {},
     "output_type": "display_data"
    },
    {
     "data": {
      "text/plain": [
       "array([[<AxesSubplot:title={'center':'profit'}>]], dtype=object)"
      ]
     },
     "metadata": {},
     "output_type": "display_data"
    },
    {
     "data": {
      "image/png": "[encoded data removed]",
      "text/plain": [
       "<Figure size 432x288 with 1 Axes>"
      ]
     },
     "metadata": {},
     "output_type": "display_data"
    },
    {
     "data": {
      "image/png": "[encoded data removed]",
      "text/plain": [
       "<Figure size 432x288 with 1 Axes>"
      ]
     },
     "metadata": {},
     "output_type": "display_data"
    },
    {
     "data": {
      "image/png": "[encoded data removed]",
      "text/plain": [
       "<Figure size 432x288 with 1 Axes>"
      ]
     },
     "metadata": {},
     "output_type": "display_data"
    },
    {
     "data": {
      "image/png": "[encoded data removed]",
      "text/plain": [
       "<Figure size 432x288 with 1 Axes>"
      ]
     },
     "metadata": {},
     "output_type": "display_data"
    }
   ],
   "source": [
    "# ultimate plan stats\n",
    "print('\\nultimate plan stats:')\n",
    "display(df_ultimate.describe())\n",
    "calculate_stat(df_ultimate)\n",
    "plot_hist(df_ultimate)\n"
   ]
  },
  {
   "cell_type": "code",
   "execution_count": 48,
   "metadata": {},
   "outputs": [
    {
     "data": {
      "text/plain": [
       "0.2694300518134715"
      ]
     },
     "metadata": {},
     "output_type": "display_data"
    },
    {
     "data": {
      "text/plain": [
       "0.6010362694300518"
      ]
     },
     "metadata": {},
     "output_type": "display_data"
    },
    {
     "data": {
      "text/plain": [
       "0.4110535405872193"
      ]
     },
     "metadata": {},
     "output_type": "display_data"
    }
   ],
   "source": [
    "exceed_calls_ultimate = len(df_ultimate[df_ultimate['duration'] > 500]) / len(df_ultimate)\n",
    "exceed_gb_ultimate = len(df_ultimate[df_ultimate['gb_used'] > 15]) / len(df_ultimate)\n",
    "exceed_messages_ultimate = len(df_ultimate[df_ultimate['messages'] > 50]) / len(df_ultimate)\n",
    "\n",
    "display(exceed_calls_ultimate , exceed_gb_ultimate , exceed_messages_ultimate )"
   ]
  },
  {
   "cell_type": "markdown",
   "metadata": {},
   "source": [
    "#### *Observations for surf plan*\n",
    "\n",
    "##### Calls:\n",
    "we see that calls duration stats are: average:  average: 386.0, std: 211.8, median: 376.0\n",
    "The mean and the median have similar values, with less then 5% of 1 std difference, meaning that the data is not skewed. \n",
    "However, the std of 211.8 show there is a big dispersion in data values. \n",
    "The histogram plot also shows a normal distribution, as expected from the close values of mean and median.\n",
    "##### Internet usage:\n",
    "we see that calls duration stats are: average: average: average: 17.7, std: 7.8, median: 17.0\n",
    "The mean and the median have similar values, with less then 5% of 1 std difference, meaning that the data is not skewed. \n",
    "However, the std of 7.8 show there is a big dispersion in data values. \n",
    "The histogram plot also shows a normal distribution, as expected from the close values of mean and median. \n",
    "##### Messages sent:\n",
    "we see that calls duration stats are: average:  average: 46.3, std: 32.9, median: 41.0\n",
    "The mean and the median have relatvely similar values, with less then 30% of 1 std difference. \n",
    "However, the std of 32.9 show there is a big dispersion in data values. \n",
    "\n",
    "The histogram plot also shows a skewed to the right distribution pattern.\n",
    "interpretaion: we cannot treat the messages data as normally distrubited when determine hypothesis test type for messages data. \n",
    "\n",
    "##### Profit:\n",
    "we see that profit stats are:  average: 72.3, std: 11.4, median: 70.0\n",
    "Simialr values of mean and mediance, and much lower std value compare to the surf plan. \n",
    "\n"
   ]
  },
  {
   "cell_type": "markdown",
   "metadata": {},
   "source": [
    "#### Statistics summary: \n",
    "\n",
    "For all data categories: big spread, and most of the points are not centered around the mean.\n",
    "\n",
    "For hypothesis tests we could assome by the histograms:\n",
    "- Test calls as normally disturbted data.\n",
    "- Test internet useage as normally disturbted data.\n",
    "- Test messages data as skewed data."
   ]
  },
  {
   "cell_type": "markdown",
   "metadata": {},
   "source": [
    "#### <font color='Purple'> Conclusions and costumer behaviour for Ultimate users:</font> </div>\n",
    "\n",
    "* Unlike the surf users, here we that only 5.7% of the sure users exceed their package limit. \n",
    "\n",
    "* These numbers, together with the mean profit of 72.3 dollars, indicate that this package is well priced. \n",
    "\n",
    "* We see that the category which users exceeds most is the internet package, where over 60% of the ultimate users exceed the 30gb limit. However, this is marginal over use, as the mean profit is very close to the package price.\n",
    "\n",
    "\n"
   ]
  },
  {
   "cell_type": "markdown",
   "metadata": {},
   "source": [
    "### <font color='Purple'> Data Analysis - Surf vs Ultimate  Comparison </font> </div>"
   ]
  },
  {
   "cell_type": "markdown",
   "metadata": {},
   "source": [
    "#### Reminder:\n",
    "* Percentage of surf users who exceed the plan: 70.2%\n",
    "* Percentage of ultimate users who exceed the plan: 5.7%\n",
    "\n",
    "\n",
    "* The average monthly profit from surf plan is: 60.0 \n",
    "* The average monthly profit from ultimate plan is: 72.3\n",
    "\n",
    "\n",
    "* Surf - we see that profit stats are: average: 60.0, std: 55.1, median: 40.0\n",
    "* Ultimate - we see that profit stats are:  average: 72.3, std: 11.4, median: 70.0\n",
    "\n",
    "\n",
    "#### Conclusions:\n",
    "we see that in both cases, users behaviour is almost identical in each cetegory. This means that the pricing of each package with it's limitations, does not influpeople consumption of the different\n",
    "\n"
   ]
  },
  {
   "cell_type": "markdown",
   "metadata": {},
   "source": [
    "<a class=\"anchor\" id=\"4\"></a>\n",
    "## Step 4:  Test the hypotheses\n"
   ]
  },
  {
   "cell_type": "markdown",
   "metadata": {},
   "source": [
    "<a class=\"anchor\" id=\"4.01\"></a>\n",
    "### The Shapiro-Wilk Test for Normality "
   ]
  },
  {
   "cell_type": "markdown",
   "metadata": {},
   "source": [
    "Although we can see that the data is normally distribued (except for profit columns), we will run as a test the Shapiro-Wilk test as an excercise to be sure our assumption is true."
   ]
  },
  {
   "cell_type": "code",
   "execution_count": 49,
   "metadata": {},
   "outputs": [
    {
     "name": "stdout",
     "output_type": "stream",
     "text": [
      "(0.7450026273727417, 3.566737592932136e-39)\n",
      "(0.21068042516708374, 8.96831017167883e-44)\n",
      "\n",
      " For Surf users:\n",
      "For duration parameter\n",
      "We rejact the null, data is not normally distributed\n",
      "For gb_used parameter\n",
      "We rejact the null, data is not normally distributed\n",
      "For messages parameter\n",
      "We rejact the null, data is not normally distributed\n",
      "\n",
      " For ultimate users:\n",
      "For duration parameter\n",
      "We rejact the null, data is not normally distributed\n",
      "For gb_used parameter\n",
      "We rejact the null, data is not normally distributed\n",
      "For messages parameter\n",
      "We rejact the null, data is not normally distributed\n"
     ]
    }
   ],
   "source": [
    "# check for profit column\n",
    "print (st.shapiro(df_surf.profit))\n",
    "print (st.shapiro(df_ultimate.profit))\n",
    "\n",
    "# double-check. run the shapiro on all columns\n",
    "def shapiro(df):\n",
    "    alpha = 0.05\n",
    "    parameters = ['duration', 'gb_used', 'messages']\n",
    "    for x in parameters:\n",
    "        print('For {} parameter'.format(x))     \n",
    "        result =  st.shapiro(df[x])\n",
    "        if result[1] > alpha:\n",
    "            print ('We accept the null, data is normally distributed')\n",
    "        else:\n",
    "            print ('We rejact the null, data is not normally distributed')\n",
    "\n",
    "print('\\n For Surf users:')\n",
    "shapiro(df_surf)\n",
    "print('\\n For ultimate users:')\n",
    "shapiro(df_ultimate)"
   ]
  },
  {
   "cell_type": "markdown",
   "metadata": {},
   "source": [
    "#### Conclusion: \n",
    "* After testing for Normality using the Shapiro-Wilk method, we see that the data is normally distrubuted. \n",
    "* This is good for our analysis, so we can use the t-test "
   ]
  },
  {
   "cell_type": "markdown",
   "metadata": {},
   "source": [
    "<a class=\"anchor\" id=\"4.1\"></a>\n",
    "### Test 1: The average profit from users of Ultimate and Surf calling plans differs."
   ]
  },
  {
   "cell_type": "markdown",
   "metadata": {},
   "source": [
    "Reminder, according to the central limit theorem (CLT), the mean of the population can be estimated from the sample mean.\n",
    "\n",
    "#H0 : The average profit from ultimate plan (m1) does not differs the profit from surf plan (m2); m1 = m2.\n",
    "#H1 : m1 != m2"
   ]
  },
  {
   "cell_type": "code",
   "execution_count": 50,
   "metadata": {},
   "outputs": [
    {
     "data": {
      "text/plain": [
       "LeveneResult(statistic=501.6108552885694, pvalue=6.13312600402989e-98)"
      ]
     },
     "metadata": {},
     "output_type": "display_data"
    },
    {
     "name": "stdout",
     "output_type": "stream",
     "text": [
      "p-value:  2.1144742905252396e-08\n",
      "We reject the null hypothesis\n"
     ]
    }
   ],
   "source": [
    "\n",
    "\n",
    "# set alpha value\n",
    "alpha = .05\n",
    "\n",
    "# After review - check for Equality of Variances using the Levane's Test\n",
    "plan_var = st.levene(df_surf.profit, df_ultimate.profit, center='mean')\n",
    "display(plan_var)\n",
    "\n",
    "\n",
    "# run ttest\n",
    "\n",
    "# using equal_var = True, as the levene result show p-value smaller then the alpha value.\n",
    "# When define eual_var as True, the method in use is the Student's t-test.\n",
    "results = st.ttest_ind(\n",
    "        df_surf.profit, \n",
    "        df_ultimate.profit, equal_var = True)\n",
    "\n",
    "print('p-value: ', results.pvalue)\n",
    "\n",
    "if (results.pvalue < alpha):\n",
    "        print(\"We reject the null hypothesis\")\n",
    "else:\n",
    "        print(\"We can't reject the null hypothesis\") \n"
   ]
  },
  {
   "cell_type": "markdown",
   "metadata": {},
   "source": [
    "<div class=\"alert alert-block alert-warning\">\n",
    "<b>Remarks and tips📌:</b> Nadav, I see that you have specified the `equal_var`,but why have you specified it in this way, equal to Fasle?  Before testing the hypotheses with the Students' t-test it is required to check the variance of the two samples for check variances for homogeneity (compare not the means, but variances).\n",
    "\n",
    "This is necessary in order to understand with which parameter to use the test method (Student's t-test or Welch's t-test) and to specify the equal_var argument inside the st.ttest_ind method (you can read more in the scipy documentation: https://docs.scipy.org/doc/scipy/reference/generated/scipy.stats.ttest_ind.html)\n",
    "<br/>\n",
    "\n",
    "To check if the assumption of homogeneity of variances is met, you can use the Leuven test, which is implemented in scipy. The method allows you to estimate the equality of variances using the p-level of significance. You can read more about this method at the link: \n",
    "https://medium.com/@kyawsawhtoon/levenes-test-the-assessment-for-equality-of-variances-94503b695a57\n",
    "    \n",
    "\n",
    "</div>"
   ]
  },
  {
   "cell_type": "markdown",
   "metadata": {},
   "source": [
    "#### *Conclusion: We rejact the null hypothesis, and can't exclude that the profit from each plan is different.*\n",
    "#### *Interpretation: This means that the ultimate package deal is more profitable due to it's initial price, as we see before that the stats are similar for each plan.*"
   ]
  },
  {
   "cell_type": "markdown",
   "metadata": {},
   "source": [
    "<a class=\"anchor\" id=\"4.2\"></a>\n",
    "### Test 2: The average profit from users in NY-NJ area is different from that of the users from other regions."
   ]
  },
  {
   "cell_type": "markdown",
   "metadata": {},
   "source": [
    "#H0 : The average profit from NY-Nj (m1) does not differs the profit from other regions (m2); m1 = m2.\n",
    "#H1 : m1 != m2\n"
   ]
  },
  {
   "cell_type": "code",
   "execution_count": 51,
   "metadata": {},
   "outputs": [
    {
     "data": {
      "text/plain": [
       "LeveneResult(statistic=7.49249499612885e-05, pvalue=0.9930946440324494)"
      ]
     },
     "metadata": {},
     "output_type": "display_data"
    },
    {
     "name": "stdout",
     "output_type": "stream",
     "text": [
      "p-value:  0.003694778603928449\n",
      "We reject the null hypothesis\n"
     ]
    }
   ],
   "source": [
    "# set varaibles for each of the sampels\n",
    "df_ny_nj = df_merged_NY_NJ[df_merged_NY_NJ['city'] == 'NY-NJ']\n",
    "df_not_ny_nj = df_merged_NY_NJ[df_merged_NY_NJ['city'] == 'Other']\n",
    "\n",
    "# set alpha value\n",
    "alpha = .05\n",
    "\n",
    "# After review - check for Equality of Variances using the Levane's Test\n",
    "city_var = st.levene(df_ny_nj.profit, df_not_ny_nj.profit, center='mean')\n",
    "display(city_var)\n",
    " \n",
    "\n",
    "# run ttest\n",
    "\n",
    "# using equal_var = False, as the levene result show p-value bigger then the alpha value.\n",
    "# When  eual_var = False, the method in use is the Welch t-test.\n",
    "results = st.ttest_ind(\n",
    "        df_ny_nj.profit, \n",
    "        df_not_ny_nj.profit, equal_var = False)\n",
    "\n",
    "print('p-value: ', results.pvalue)\n",
    "\n",
    "if (results.pvalue < alpha):\n",
    "        print(\"We reject the null hypothesis\")\n",
    "else:\n",
    "        print(\"We can't reject the null hypothesis\") \n",
    "        \n"
   ]
  },
  {
   "cell_type": "markdown",
   "metadata": {},
   "source": [
    "#### *Conclusion: We rejact the null hypothesis that the profit from NY-NJ users is similar to the profit of users from other locations.*\n",
    "\n",
    "#### *Interpretation: Users in the NY-NJ are likely to be more profitable then users in othe locations, we should put more focus on this area then other locations."
   ]
  },
  {
   "cell_type": "code",
   "execution_count": 52,
   "metadata": {},
   "outputs": [
    {
     "data": {
      "text/html": [
       "<div>\n",
       "<style scoped>\n",
       "    .dataframe tbody tr th:only-of-type {\n",
       "        vertical-align: middle;\n",
       "    }\n",
       "\n",
       "    .dataframe tbody tr th {\n",
       "        vertical-align: top;\n",
       "    }\n",
       "\n",
       "    .dataframe thead th {\n",
       "        text-align: right;\n",
       "    }\n",
       "</style>\n",
       "<table border=\"1\" class=\"dataframe\">\n",
       "  <thead>\n",
       "    <tr style=\"text-align: right;\">\n",
       "      <th></th>\n",
       "      <th>user_id</th>\n",
       "      <th>month</th>\n",
       "      <th>duration</th>\n",
       "      <th>mb_used</th>\n",
       "      <th>gb_used</th>\n",
       "      <th>messages</th>\n",
       "      <th>profit</th>\n",
       "    </tr>\n",
       "  </thead>\n",
       "  <tbody>\n",
       "    <tr>\n",
       "      <th>count</th>\n",
       "      <td>279.000000</td>\n",
       "      <td>279.000000</td>\n",
       "      <td>279.000000</td>\n",
       "      <td>279.000000</td>\n",
       "      <td>279.000000</td>\n",
       "      <td>279.000000</td>\n",
       "      <td>279.00000</td>\n",
       "    </tr>\n",
       "    <tr>\n",
       "      <th>mean</th>\n",
       "      <td>1215.383513</td>\n",
       "      <td>9.200717</td>\n",
       "      <td>403.344086</td>\n",
       "      <td>16792.244373</td>\n",
       "      <td>16.867384</td>\n",
       "      <td>35.132616</td>\n",
       "      <td>57.39724</td>\n",
       "    </tr>\n",
       "    <tr>\n",
       "      <th>std</th>\n",
       "      <td>129.008169</td>\n",
       "      <td>2.454448</td>\n",
       "      <td>185.513995</td>\n",
       "      <td>7333.739809</td>\n",
       "      <td>7.181134</td>\n",
       "      <td>26.850244</td>\n",
       "      <td>38.81209</td>\n",
       "    </tr>\n",
       "    <tr>\n",
       "      <th>min</th>\n",
       "      <td>1014.000000</td>\n",
       "      <td>2.000000</td>\n",
       "      <td>0.000000</td>\n",
       "      <td>290.060000</td>\n",
       "      <td>1.000000</td>\n",
       "      <td>1.000000</td>\n",
       "      <td>20.00000</td>\n",
       "    </tr>\n",
       "    <tr>\n",
       "      <th>25%</th>\n",
       "      <td>1113.500000</td>\n",
       "      <td>8.000000</td>\n",
       "      <td>278.500000</td>\n",
       "      <td>12839.935000</td>\n",
       "      <td>13.000000</td>\n",
       "      <td>13.000000</td>\n",
       "      <td>20.52500</td>\n",
       "    </tr>\n",
       "    <tr>\n",
       "      <th>50%</th>\n",
       "      <td>1181.000000</td>\n",
       "      <td>10.000000</td>\n",
       "      <td>418.000000</td>\n",
       "      <td>16692.580000</td>\n",
       "      <td>17.000000</td>\n",
       "      <td>31.000000</td>\n",
       "      <td>50.15000</td>\n",
       "    </tr>\n",
       "    <tr>\n",
       "      <th>75%</th>\n",
       "      <td>1299.000000</td>\n",
       "      <td>11.000000</td>\n",
       "      <td>521.500000</td>\n",
       "      <td>20528.445000</td>\n",
       "      <td>21.000000</td>\n",
       "      <td>48.000000</td>\n",
       "      <td>70.00000</td>\n",
       "    </tr>\n",
       "    <tr>\n",
       "      <th>max</th>\n",
       "      <td>1494.000000</td>\n",
       "      <td>12.000000</td>\n",
       "      <td>1058.000000</td>\n",
       "      <td>38583.960000</td>\n",
       "      <td>38.000000</td>\n",
       "      <td>126.000000</td>\n",
       "      <td>228.18000</td>\n",
       "    </tr>\n",
       "  </tbody>\n",
       "</table>\n",
       "</div>"
      ],
      "text/plain": [
       "           user_id       month     duration       mb_used     gb_used  \\\n",
       "count   279.000000  279.000000   279.000000    279.000000  279.000000   \n",
       "mean   1215.383513    9.200717   403.344086  16792.244373   16.867384   \n",
       "std     129.008169    2.454448   185.513995   7333.739809    7.181134   \n",
       "min    1014.000000    2.000000     0.000000    290.060000    1.000000   \n",
       "25%    1113.500000    8.000000   278.500000  12839.935000   13.000000   \n",
       "50%    1181.000000   10.000000   418.000000  16692.580000   17.000000   \n",
       "75%    1299.000000   11.000000   521.500000  20528.445000   21.000000   \n",
       "max    1494.000000   12.000000  1058.000000  38583.960000   38.000000   \n",
       "\n",
       "         messages     profit  \n",
       "count  279.000000  279.00000  \n",
       "mean    35.132616   57.39724  \n",
       "std     26.850244   38.81209  \n",
       "min      1.000000   20.00000  \n",
       "25%     13.000000   20.52500  \n",
       "50%     31.000000   50.15000  \n",
       "75%     48.000000   70.00000  \n",
       "max    126.000000  228.18000  "
      ]
     },
     "metadata": {},
     "output_type": "display_data"
    },
    {
     "data": {
      "text/html": [
       "<div>\n",
       "<style scoped>\n",
       "    .dataframe tbody tr th:only-of-type {\n",
       "        vertical-align: middle;\n",
       "    }\n",
       "\n",
       "    .dataframe tbody tr th {\n",
       "        vertical-align: top;\n",
       "    }\n",
       "\n",
       "    .dataframe thead th {\n",
       "        text-align: right;\n",
       "    }\n",
       "</style>\n",
       "<table border=\"1\" class=\"dataframe\">\n",
       "  <thead>\n",
       "    <tr style=\"text-align: right;\">\n",
       "      <th></th>\n",
       "      <th>user_id</th>\n",
       "      <th>month</th>\n",
       "      <th>duration</th>\n",
       "      <th>mb_used</th>\n",
       "      <th>gb_used</th>\n",
       "      <th>messages</th>\n",
       "      <th>profit</th>\n",
       "    </tr>\n",
       "  </thead>\n",
       "  <tbody>\n",
       "    <tr>\n",
       "      <th>count</th>\n",
       "      <td>1480.000000</td>\n",
       "      <td>1480.000000</td>\n",
       "      <td>1480.000000</td>\n",
       "      <td>1480.000000</td>\n",
       "      <td>1480.000000</td>\n",
       "      <td>1480.000000</td>\n",
       "      <td>1480.000000</td>\n",
       "    </tr>\n",
       "    <tr>\n",
       "      <th>mean</th>\n",
       "      <td>1250.543243</td>\n",
       "      <td>9.274324</td>\n",
       "      <td>393.587838</td>\n",
       "      <td>16841.575676</td>\n",
       "      <td>16.962162</td>\n",
       "      <td>43.036486</td>\n",
       "      <td>65.004304</td>\n",
       "    </tr>\n",
       "    <tr>\n",
       "      <th>std</th>\n",
       "      <td>140.489560</td>\n",
       "      <td>2.440173</td>\n",
       "      <td>219.018140</td>\n",
       "      <td>7779.698356</td>\n",
       "      <td>7.602528</td>\n",
       "      <td>33.518848</td>\n",
       "      <td>45.398552</td>\n",
       "    </tr>\n",
       "    <tr>\n",
       "      <th>min</th>\n",
       "      <td>1000.000000</td>\n",
       "      <td>1.000000</td>\n",
       "      <td>1.000000</td>\n",
       "      <td>92.310000</td>\n",
       "      <td>1.000000</td>\n",
       "      <td>1.000000</td>\n",
       "      <td>20.000000</td>\n",
       "    </tr>\n",
       "    <tr>\n",
       "      <th>25%</th>\n",
       "      <td>1132.000000</td>\n",
       "      <td>8.000000</td>\n",
       "      <td>241.750000</td>\n",
       "      <td>12484.227500</td>\n",
       "      <td>13.000000</td>\n",
       "      <td>18.000000</td>\n",
       "      <td>26.570000</td>\n",
       "    </tr>\n",
       "    <tr>\n",
       "      <th>50%</th>\n",
       "      <td>1252.000000</td>\n",
       "      <td>10.000000</td>\n",
       "      <td>378.000000</td>\n",
       "      <td>16931.895000</td>\n",
       "      <td>17.000000</td>\n",
       "      <td>35.000000</td>\n",
       "      <td>70.000000</td>\n",
       "    </tr>\n",
       "    <tr>\n",
       "      <th>75%</th>\n",
       "      <td>1366.000000</td>\n",
       "      <td>11.000000</td>\n",
       "      <td>521.000000</td>\n",
       "      <td>20968.340000</td>\n",
       "      <td>21.000000</td>\n",
       "      <td>61.000000</td>\n",
       "      <td>70.000000</td>\n",
       "    </tr>\n",
       "    <tr>\n",
       "      <th>max</th>\n",
       "      <td>1497.000000</td>\n",
       "      <td>12.000000</td>\n",
       "      <td>1344.000000</td>\n",
       "      <td>70931.590000</td>\n",
       "      <td>70.000000</td>\n",
       "      <td>266.000000</td>\n",
       "      <td>586.980000</td>\n",
       "    </tr>\n",
       "  </tbody>\n",
       "</table>\n",
       "</div>"
      ],
      "text/plain": [
       "           user_id        month     duration       mb_used      gb_used  \\\n",
       "count  1480.000000  1480.000000  1480.000000   1480.000000  1480.000000   \n",
       "mean   1250.543243     9.274324   393.587838  16841.575676    16.962162   \n",
       "std     140.489560     2.440173   219.018140   7779.698356     7.602528   \n",
       "min    1000.000000     1.000000     1.000000     92.310000     1.000000   \n",
       "25%    1132.000000     8.000000   241.750000  12484.227500    13.000000   \n",
       "50%    1252.000000    10.000000   378.000000  16931.895000    17.000000   \n",
       "75%    1366.000000    11.000000   521.000000  20968.340000    21.000000   \n",
       "max    1497.000000    12.000000  1344.000000  70931.590000    70.000000   \n",
       "\n",
       "          messages       profit  \n",
       "count  1480.000000  1480.000000  \n",
       "mean     43.036486    65.004304  \n",
       "std      33.518848    45.398552  \n",
       "min       1.000000    20.000000  \n",
       "25%      18.000000    26.570000  \n",
       "50%      35.000000    70.000000  \n",
       "75%      61.000000    70.000000  \n",
       "max     266.000000   586.980000  "
      ]
     },
     "metadata": {},
     "output_type": "display_data"
    }
   ],
   "source": [
    "display(df_ny_nj.describe())\n",
    "display(df_not_ny_nj.describe())\n",
    "\n"
   ]
  },
  {
   "cell_type": "markdown",
   "metadata": {},
   "source": [
    "<a class=\"anchor\" id=\"5\"></a>\n",
    "## Step 5:  Overall Conclusion "
   ]
  },
  {
   "cell_type": "markdown",
   "metadata": {},
   "source": [
    "**Costumer behaviour:**\n",
    "* We see that users behavior is not very different in any of the tested categories, with very similar statistical values in each one (calls, internet usage and messages). \n",
    "* surf plan users exceed the plan's limits a lot more compare to the ultimate plan users. This is observed both in statistical results (median, mean, std) and in the profit histogram. \n",
    "\n",
    "**From EDA:**\n",
    "* The ultimate plan is more profitable with higher average profit. \n",
    "* Despite the fact that ultimate users stay within the package, the plan is still more profitable, due to it's initial higher price. \n",
    "* Calls and Internet usages are normally distrubued. \n",
    "\n",
    "**Hyphothesis tests:**\n",
    "- Test 1: There is a difference in profits from surf and ultimate plans.\n",
    "- Test 2: Profits from NY-NJ users are not different then the profits of ther places users. "
   ]
  },
  {
   "cell_type": "markdown",
   "metadata": {},
   "source": [
    "<div style=\"border:solid Chocolate 2px; padding: 40px\">\n",
    "\n",
    "**The overall review conclusion**\n",
    "\n",
    "Nadav, thank you for submitting your project! Thank you for submitting your project! I can see that you've worked really hard on it! I'm really impressed this the amount of work you have done. But there are several things in your project which I suppose it is important to fix in order to make your project really ideal! My comments will navigate you!\n",
    "\n",
    "<br/>\n",
    "\n",
    "**Good things and practices in your project I want to highlight🙂**:\n",
    "* I want to point out your code style and formatting: for me it was a pleasure to review your project!\n",
    "* You use different methods for working with your data. It is really great that you can apply these methods on practice, keep it up!\n",
    "* I am really impressed with the automation tools that you use for completing the tasks: you have created very effective functions!\n",
    "* You worked eith the visualization a lot, and you can build the correct types of graphs. Nice!\n",
    "* You have also demonstrated the knowledge of statistics, you correctly interpreted the basic statistics and histograms.\n",
    "\n",
    "**What is worth working on👀**:\n",
    "* Pay attention to the step of preprocessing data, especially the moment with the deleting of the dublicates.\n",
    "* Pay more attention to checking the assumptions of the Student's t-test.\n",
    "* Please, complement your conclusions adding more 'user-friendly' explanations not only in the language of ststistics but also in the language of the business, you client and simply the real world.\n",
    "\n",
    "**Good luck! I will wait for your work for a second iteration of review!😉**"
   ]
  },
  {
   "cell_type": "markdown",
   "metadata": {},
   "source": [
    "<div style=\"border:solid Chocolate 2px; padding: 40px\">\n",
    "\n",
    "**The overall review conclusion: second iteration of review**\n",
    "\n",
    "Nadav, thank you for submitting your project with corrections! You have significantly improved your project, it is really amazing job! Thanks for your patience and desire to bring the project to completion! Now I congratulate you on the end of the project and I hasten to inform you that it has been accepted and you can move on to the next sprint!\n",
    "\n",
    "\n",
    "**I wish you the same cool projects in the next sprints😉**\n"
   ]
  },
  {
   "cell_type": "code",
   "execution_count": null,
   "metadata": {},
   "outputs": [],
   "source": []
  }
 ],
 "metadata": {
  "kernelspec": {
   "display_name": "Python 3",
   "language": "python",
   "name": "python3"
  },
  "language_info": {
   "codemirror_mode": {
    "name": "ipython",
    "version": 3
   },
   "file_extension": ".py",
   "mimetype": "text/x-python",
   "name": "python",
   "nbconvert_exporter": "python",
   "pygments_lexer": "ipython3",
   "version": "3.6.4"
  },
  "toc": {
   "base_numbering": 1,
   "nav_menu": {},
   "number_sections": true,
   "sideBar": true,
   "skip_h1_title": false,
   "title_cell": "Table of Contents",
   "title_sidebar": "Contents",
   "toc_cell": false,
   "toc_position": {},
   "toc_section_display": true,
   "toc_window_display": false
  }
 },
 "nbformat": 4,
 "nbformat_minor": 2
}
