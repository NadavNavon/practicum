{
 "cells": [
  {
   "cell_type": "code",
   "execution_count": null,
   "metadata": {},
   "outputs": [],
   "source": []
  },
  {
   "cell_type": "code",
   "execution_count": 2,
   "metadata": {},
   "outputs": [],
   "source": [
    "import pandas as pd\n",
    "import numpy as np\n",
    "import matplotlib.pyplot as plt\n",
    "import seaborn as sns\n",
    "import math as math\n",
    "import datetime as dt\n",
    "from functools import reduce\n",
    "from scipy import stats as st\n",
    "import plotly.express as px\n",
    "import scipy.stats as stats\n",
    "import plotly.graph_objects as go\n"
   ]
  },
  {
   "cell_type": "code",
   "execution_count": 4,
   "metadata": {},
   "outputs": [],
   "source": [
    "clients = pd.read_csv('/datasets/telecom_clients_us.csv')\n",
    "dataset = pd.read_csv('/datasets/telecom_dataset_us.csv')"
   ]
  },
  {
   "cell_type": "code",
   "execution_count": null,
   "metadata": {},
   "outputs": [],
   "source": []
  },
  {
   "cell_type": "code",
   "execution_count": 17,
   "metadata": {},
   "outputs": [
    {
     "data": {
      "text/html": [
       "<div>\n",
       "<style scoped>\n",
       "    .dataframe tbody tr th:only-of-type {\n",
       "        vertical-align: middle;\n",
       "    }\n",
       "\n",
       "    .dataframe tbody tr th {\n",
       "        vertical-align: top;\n",
       "    }\n",
       "\n",
       "    .dataframe thead th {\n",
       "        text-align: right;\n",
       "    }\n",
       "</style>\n",
       "<table border=\"1\" class=\"dataframe\">\n",
       "  <thead>\n",
       "    <tr style=\"text-align: right;\">\n",
       "      <th></th>\n",
       "      <th>user_id</th>\n",
       "      <th>date</th>\n",
       "      <th>direction</th>\n",
       "      <th>internal</th>\n",
       "      <th>operator_id</th>\n",
       "      <th>is_missed_call</th>\n",
       "      <th>calls_count</th>\n",
       "      <th>call_duration</th>\n",
       "      <th>total_call_duration</th>\n",
       "    </tr>\n",
       "  </thead>\n",
       "  <tbody>\n",
       "    <tr>\n",
       "      <td>0</td>\n",
       "      <td>166377</td>\n",
       "      <td>2019-08-04 00:00:00+03:00</td>\n",
       "      <td>in</td>\n",
       "      <td>False</td>\n",
       "      <td>NaN</td>\n",
       "      <td>True</td>\n",
       "      <td>2</td>\n",
       "      <td>0</td>\n",
       "      <td>10</td>\n",
       "    </tr>\n",
       "    <tr>\n",
       "      <td>1</td>\n",
       "      <td>166377</td>\n",
       "      <td>2019-08-05 00:00:00+03:00</td>\n",
       "      <td>out</td>\n",
       "      <td>True</td>\n",
       "      <td>880022.0</td>\n",
       "      <td>True</td>\n",
       "      <td>3</td>\n",
       "      <td>0</td>\n",
       "      <td>10</td>\n",
       "    </tr>\n",
       "    <tr>\n",
       "      <td>2</td>\n",
       "      <td>166377</td>\n",
       "      <td>2019-08-05 00:00:00+03:00</td>\n",
       "      <td>out</td>\n",
       "      <td>True</td>\n",
       "      <td>880020.0</td>\n",
       "      <td>True</td>\n",
       "      <td>1</td>\n",
       "      <td>0</td>\n",
       "      <td>10</td>\n",
       "    </tr>\n",
       "    <tr>\n",
       "      <td>3</td>\n",
       "      <td>166377</td>\n",
       "      <td>2019-08-05 00:00:00+03:00</td>\n",
       "      <td>out</td>\n",
       "      <td>True</td>\n",
       "      <td>880020.0</td>\n",
       "      <td>False</td>\n",
       "      <td>1</td>\n",
       "      <td>10</td>\n",
       "      <td>18</td>\n",
       "    </tr>\n",
       "    <tr>\n",
       "      <td>4</td>\n",
       "      <td>166377</td>\n",
       "      <td>2019-08-05 00:00:00+03:00</td>\n",
       "      <td>out</td>\n",
       "      <td>False</td>\n",
       "      <td>880022.0</td>\n",
       "      <td>True</td>\n",
       "      <td>3</td>\n",
       "      <td>0</td>\n",
       "      <td>25</td>\n",
       "    </tr>\n",
       "    <tr>\n",
       "      <td>5</td>\n",
       "      <td>166377</td>\n",
       "      <td>2019-08-05 00:00:00+03:00</td>\n",
       "      <td>out</td>\n",
       "      <td>False</td>\n",
       "      <td>880020.0</td>\n",
       "      <td>False</td>\n",
       "      <td>2</td>\n",
       "      <td>3</td>\n",
       "      <td>29</td>\n",
       "    </tr>\n",
       "    <tr>\n",
       "      <td>6</td>\n",
       "      <td>166377</td>\n",
       "      <td>2019-08-05 00:00:00+03:00</td>\n",
       "      <td>out</td>\n",
       "      <td>False</td>\n",
       "      <td>880020.0</td>\n",
       "      <td>True</td>\n",
       "      <td>8</td>\n",
       "      <td>0</td>\n",
       "      <td>50</td>\n",
       "    </tr>\n",
       "    <tr>\n",
       "      <td>7</td>\n",
       "      <td>166377</td>\n",
       "      <td>2019-08-05 00:00:00+03:00</td>\n",
       "      <td>in</td>\n",
       "      <td>False</td>\n",
       "      <td>NaN</td>\n",
       "      <td>True</td>\n",
       "      <td>6</td>\n",
       "      <td>0</td>\n",
       "      <td>35</td>\n",
       "    </tr>\n",
       "    <tr>\n",
       "      <td>8</td>\n",
       "      <td>166377</td>\n",
       "      <td>2019-08-05 00:00:00+03:00</td>\n",
       "      <td>out</td>\n",
       "      <td>False</td>\n",
       "      <td>880020.0</td>\n",
       "      <td>True</td>\n",
       "      <td>8</td>\n",
       "      <td>0</td>\n",
       "      <td>50</td>\n",
       "    </tr>\n",
       "    <tr>\n",
       "      <td>9</td>\n",
       "      <td>166377</td>\n",
       "      <td>2019-08-06 00:00:00+03:00</td>\n",
       "      <td>in</td>\n",
       "      <td>False</td>\n",
       "      <td>NaN</td>\n",
       "      <td>True</td>\n",
       "      <td>4</td>\n",
       "      <td>0</td>\n",
       "      <td>62</td>\n",
       "    </tr>\n",
       "  </tbody>\n",
       "</table>\n",
       "</div>"
      ],
      "text/plain": [
       "   user_id                       date direction internal  operator_id  \\\n",
       "0   166377  2019-08-04 00:00:00+03:00        in    False          NaN   \n",
       "1   166377  2019-08-05 00:00:00+03:00       out     True     880022.0   \n",
       "2   166377  2019-08-05 00:00:00+03:00       out     True     880020.0   \n",
       "3   166377  2019-08-05 00:00:00+03:00       out     True     880020.0   \n",
       "4   166377  2019-08-05 00:00:00+03:00       out    False     880022.0   \n",
       "5   166377  2019-08-05 00:00:00+03:00       out    False     880020.0   \n",
       "6   166377  2019-08-05 00:00:00+03:00       out    False     880020.0   \n",
       "7   166377  2019-08-05 00:00:00+03:00        in    False          NaN   \n",
       "8   166377  2019-08-05 00:00:00+03:00       out    False     880020.0   \n",
       "9   166377  2019-08-06 00:00:00+03:00        in    False          NaN   \n",
       "\n",
       "   is_missed_call  calls_count  call_duration  total_call_duration  \n",
       "0            True            2              0                   10  \n",
       "1            True            3              0                   10  \n",
       "2            True            1              0                   10  \n",
       "3           False            1             10                   18  \n",
       "4            True            3              0                   25  \n",
       "5           False            2              3                   29  \n",
       "6            True            8              0                   50  \n",
       "7            True            6              0                   35  \n",
       "8            True            8              0                   50  \n",
       "9            True            4              0                   62  "
      ]
     },
     "metadata": {},
     "output_type": "display_data"
    },
    {
     "name": "stdout",
     "output_type": "stream",
     "text": [
      "<class 'pandas.core.frame.DataFrame'>\n",
      "RangeIndex: 53902 entries, 0 to 53901\n",
      "Data columns (total 9 columns):\n",
      "user_id                53902 non-null int64\n",
      "date                   53902 non-null object\n",
      "direction              53902 non-null object\n",
      "internal               53785 non-null object\n",
      "operator_id            45730 non-null float64\n",
      "is_missed_call         53902 non-null bool\n",
      "calls_count            53902 non-null int64\n",
      "call_duration          53902 non-null int64\n",
      "total_call_duration    53902 non-null int64\n",
      "dtypes: bool(1), float64(1), int64(4), object(3)\n",
      "memory usage: 3.3+ MB\n"
     ]
    },
    {
     "data": {
      "text/plain": [
       "None"
      ]
     },
     "metadata": {},
     "output_type": "display_data"
    },
    {
     "data": {
      "text/html": [
       "<div>\n",
       "<style scoped>\n",
       "    .dataframe tbody tr th:only-of-type {\n",
       "        vertical-align: middle;\n",
       "    }\n",
       "\n",
       "    .dataframe tbody tr th {\n",
       "        vertical-align: top;\n",
       "    }\n",
       "\n",
       "    .dataframe thead th {\n",
       "        text-align: right;\n",
       "    }\n",
       "</style>\n",
       "<table border=\"1\" class=\"dataframe\">\n",
       "  <thead>\n",
       "    <tr style=\"text-align: right;\">\n",
       "      <th></th>\n",
       "      <th>user_id</th>\n",
       "      <th>date</th>\n",
       "      <th>direction</th>\n",
       "      <th>internal</th>\n",
       "      <th>operator_id</th>\n",
       "      <th>is_missed_call</th>\n",
       "      <th>calls_count</th>\n",
       "      <th>call_duration</th>\n",
       "      <th>total_call_duration</th>\n",
       "    </tr>\n",
       "  </thead>\n",
       "  <tbody>\n",
       "    <tr>\n",
       "      <td>count</td>\n",
       "      <td>53902.000000</td>\n",
       "      <td>53902</td>\n",
       "      <td>53902</td>\n",
       "      <td>53785</td>\n",
       "      <td>45730.000000</td>\n",
       "      <td>53902</td>\n",
       "      <td>53902.000000</td>\n",
       "      <td>53902.000000</td>\n",
       "      <td>53902.000000</td>\n",
       "    </tr>\n",
       "    <tr>\n",
       "      <td>unique</td>\n",
       "      <td>NaN</td>\n",
       "      <td>119</td>\n",
       "      <td>2</td>\n",
       "      <td>2</td>\n",
       "      <td>NaN</td>\n",
       "      <td>2</td>\n",
       "      <td>NaN</td>\n",
       "      <td>NaN</td>\n",
       "      <td>NaN</td>\n",
       "    </tr>\n",
       "    <tr>\n",
       "      <td>top</td>\n",
       "      <td>NaN</td>\n",
       "      <td>2019-11-25 00:00:00+03:00</td>\n",
       "      <td>out</td>\n",
       "      <td>False</td>\n",
       "      <td>NaN</td>\n",
       "      <td>False</td>\n",
       "      <td>NaN</td>\n",
       "      <td>NaN</td>\n",
       "      <td>NaN</td>\n",
       "    </tr>\n",
       "    <tr>\n",
       "      <td>freq</td>\n",
       "      <td>NaN</td>\n",
       "      <td>1220</td>\n",
       "      <td>31917</td>\n",
       "      <td>47621</td>\n",
       "      <td>NaN</td>\n",
       "      <td>30334</td>\n",
       "      <td>NaN</td>\n",
       "      <td>NaN</td>\n",
       "      <td>NaN</td>\n",
       "    </tr>\n",
       "    <tr>\n",
       "      <td>mean</td>\n",
       "      <td>167295.344477</td>\n",
       "      <td>NaN</td>\n",
       "      <td>NaN</td>\n",
       "      <td>NaN</td>\n",
       "      <td>916535.993002</td>\n",
       "      <td>NaN</td>\n",
       "      <td>9.245687</td>\n",
       "      <td>440.938796</td>\n",
       "      <td>647.077956</td>\n",
       "    </tr>\n",
       "    <tr>\n",
       "      <td>std</td>\n",
       "      <td>598.883775</td>\n",
       "      <td>NaN</td>\n",
       "      <td>NaN</td>\n",
       "      <td>NaN</td>\n",
       "      <td>21254.123136</td>\n",
       "      <td>NaN</td>\n",
       "      <td>11.131112</td>\n",
       "      <td>702.997575</td>\n",
       "      <td>861.012455</td>\n",
       "    </tr>\n",
       "    <tr>\n",
       "      <td>min</td>\n",
       "      <td>166377.000000</td>\n",
       "      <td>NaN</td>\n",
       "      <td>NaN</td>\n",
       "      <td>NaN</td>\n",
       "      <td>879896.000000</td>\n",
       "      <td>NaN</td>\n",
       "      <td>1.000000</td>\n",
       "      <td>0.000000</td>\n",
       "      <td>10.000000</td>\n",
       "    </tr>\n",
       "    <tr>\n",
       "      <td>25%</td>\n",
       "      <td>166782.000000</td>\n",
       "      <td>NaN</td>\n",
       "      <td>NaN</td>\n",
       "      <td>NaN</td>\n",
       "      <td>900788.000000</td>\n",
       "      <td>NaN</td>\n",
       "      <td>1.000000</td>\n",
       "      <td>0.000000</td>\n",
       "      <td>47.000000</td>\n",
       "    </tr>\n",
       "    <tr>\n",
       "      <td>50%</td>\n",
       "      <td>167162.000000</td>\n",
       "      <td>NaN</td>\n",
       "      <td>NaN</td>\n",
       "      <td>NaN</td>\n",
       "      <td>913938.000000</td>\n",
       "      <td>NaN</td>\n",
       "      <td>4.000000</td>\n",
       "      <td>38.000000</td>\n",
       "      <td>210.000000</td>\n",
       "    </tr>\n",
       "    <tr>\n",
       "      <td>75%</td>\n",
       "      <td>167819.000000</td>\n",
       "      <td>NaN</td>\n",
       "      <td>NaN</td>\n",
       "      <td>NaN</td>\n",
       "      <td>937708.000000</td>\n",
       "      <td>NaN</td>\n",
       "      <td>12.000000</td>\n",
       "      <td>572.000000</td>\n",
       "      <td>902.000000</td>\n",
       "    </tr>\n",
       "    <tr>\n",
       "      <td>max</td>\n",
       "      <td>168606.000000</td>\n",
       "      <td>NaN</td>\n",
       "      <td>NaN</td>\n",
       "      <td>NaN</td>\n",
       "      <td>973286.000000</td>\n",
       "      <td>NaN</td>\n",
       "      <td>35.000000</td>\n",
       "      <td>2105.000000</td>\n",
       "      <td>2626.000000</td>\n",
       "    </tr>\n",
       "  </tbody>\n",
       "</table>\n",
       "</div>"
      ],
      "text/plain": [
       "              user_id                       date direction internal  \\\n",
       "count    53902.000000                      53902     53902    53785   \n",
       "unique            NaN                        119         2        2   \n",
       "top               NaN  2019-11-25 00:00:00+03:00       out    False   \n",
       "freq              NaN                       1220     31917    47621   \n",
       "mean    167295.344477                        NaN       NaN      NaN   \n",
       "std        598.883775                        NaN       NaN      NaN   \n",
       "min     166377.000000                        NaN       NaN      NaN   \n",
       "25%     166782.000000                        NaN       NaN      NaN   \n",
       "50%     167162.000000                        NaN       NaN      NaN   \n",
       "75%     167819.000000                        NaN       NaN      NaN   \n",
       "max     168606.000000                        NaN       NaN      NaN   \n",
       "\n",
       "          operator_id is_missed_call   calls_count  call_duration  \\\n",
       "count    45730.000000          53902  53902.000000   53902.000000   \n",
       "unique            NaN              2           NaN            NaN   \n",
       "top               NaN          False           NaN            NaN   \n",
       "freq              NaN          30334           NaN            NaN   \n",
       "mean    916535.993002            NaN      9.245687     440.938796   \n",
       "std      21254.123136            NaN     11.131112     702.997575   \n",
       "min     879896.000000            NaN      1.000000       0.000000   \n",
       "25%     900788.000000            NaN      1.000000       0.000000   \n",
       "50%     913938.000000            NaN      4.000000      38.000000   \n",
       "75%     937708.000000            NaN     12.000000     572.000000   \n",
       "max     973286.000000            NaN     35.000000    2105.000000   \n",
       "\n",
       "        total_call_duration  \n",
       "count          53902.000000  \n",
       "unique                  NaN  \n",
       "top                     NaN  \n",
       "freq                    NaN  \n",
       "mean             647.077956  \n",
       "std              861.012455  \n",
       "min               10.000000  \n",
       "25%               47.000000  \n",
       "50%              210.000000  \n",
       "75%              902.000000  \n",
       "max             2626.000000  "
      ]
     },
     "metadata": {},
     "output_type": "display_data"
    }
   ],
   "source": [
    "display(dataset.head(10))\n",
    "display(dataset.info())\n",
    "display(dataset.describe(include = 'all'))"
   ]
  },
  {
   "cell_type": "code",
   "execution_count": 6,
   "metadata": {},
   "outputs": [
    {
     "data": {
      "text/plain": [
       "1092"
      ]
     },
     "execution_count": 6,
     "metadata": {},
     "output_type": "execute_result"
    }
   ],
   "source": [
    "dataset.operator_id.nunique()"
   ]
  },
  {
   "cell_type": "markdown",
   "metadata": {},
   "source": [
    "<b> preliminary observations </b>\n",
    "- ~54K calls events in the dataset.\n",
    "- ~1092 operators, not including missing values\n",
    "- significant missing values only in operator_id column, approx. for 8k calls\n",
    "- major outliars at calls_count, call_duration. total_call_duration, clearly seen in std values. \n",
    "\n"
   ]
  },
  {
   "cell_type": "code",
   "execution_count": 7,
   "metadata": {},
   "outputs": [
    {
     "name": "stdout",
     "output_type": "stream",
     "text": [
      "[  1.   1.  62. 166.]\n",
      "[    0.       0.    3739.95 10333.9 ]\n",
      "[0.000000e+00 2.000000e+00 4.540000e+03 1.295565e+04]\n"
     ]
    }
   ],
   "source": [
    "print(np.percentile(dataset['calls_count'], [1,5, 95, 99])) \n",
    "print(np.percentile(dataset['call_duration'], [1,5, 95, 99])) \n",
    "print(np.percentile(dataset['total_call_duration'], [1,5, 95, 99])) \n",
    "# consider all dataset from 95th precentile and up as outliars. \n",
    "\n",
    "# function to clip\n",
    "dataset.calls_count = dataset.calls_count.transform(lambda x : np.clip(x,x.quantile(0.10),x.quantile(0.90)))\n",
    "dataset.call_duration = dataset.call_duration.transform(lambda x : np.clip(x,x.quantile(0.10),x.quantile(0.90)))\n",
    "dataset.total_call_duration = dataset.total_call_duration.transform(lambda x : np.clip(x,x.quantile(0.10),x.quantile(0.90)))"
   ]
  },
  {
   "cell_type": "code",
   "execution_count": 8,
   "metadata": {},
   "outputs": [
    {
     "data": {
      "text/plain": [
       "<matplotlib.axes._subplots.AxesSubplot at 0x7f193c588290>"
      ]
     },
     "execution_count": 8,
     "metadata": {},
     "output_type": "execute_result"
    },
    {
     "data": {
      "image/png": "[encoded data removed]",
      "text/plain": [
       "<Figure size 432x288 with 1 Axes>"
      ]
     },
     "metadata": {
      "needs_background": "light"
     },
     "output_type": "display_data"
    }
   ],
   "source": [
    "dataset.operator_id.value_counts().hist(bins = 100)"
   ]
  },
  {
   "cell_type": "code",
   "execution_count": 9,
   "metadata": {},
   "outputs": [
    {
     "data": {
      "text/plain": [
       "0.6373626373626373"
      ]
     },
     "execution_count": 9,
     "metadata": {},
     "output_type": "execute_result"
    }
   ],
   "source": [
    "g = dataset.operator_id.value_counts() \n",
    "len(g[g > 10]) / len(g)"
   ]
  },
  {
   "cell_type": "code",
   "execution_count": 16,
   "metadata": {},
   "outputs": [
    {
     "data": {
      "text/plain": [
       "119"
      ]
     },
     "execution_count": 16,
     "metadata": {},
     "output_type": "execute_result"
    }
   ],
   "source": [
    "dataset.date.nunique()"
   ]
  },
  {
   "cell_type": "code",
   "execution_count": 12,
   "metadata": {},
   "outputs": [
    {
     "data": {
      "text/plain": [
       "0.43723795035434676"
      ]
     },
     "execution_count": 12,
     "metadata": {},
     "output_type": "execute_result"
    }
   ],
   "source": [
    "len(dataset[dataset['is_missed_call'] == True]) / len(dataset)"
   ]
  },
  {
   "cell_type": "markdown",
   "metadata": {},
   "source": [
    "## Research Objective\n",
    "- Identify ineffective operators\n",
    "\n"
   ]
  },
  {
   "cell_type": "markdown",
   "metadata": {},
   "source": [
    "===================================================================================================="
   ]
  },
  {
   "cell_type": "markdown",
   "metadata": {},
   "source": [
    "## Ineffective Operators Definition\n",
    "\n",
    "Ineffective Operators are characterized by the following catagories:\n",
    "- Large number of missed incoming calls (internal and external)\n",
    "- Long waiting time for incoming calls \n",
    "- Small number of outgoing calls (for operators making outgoing calls)"
   ]
  },
  {
   "cell_type": "markdown",
   "metadata": {},
   "source": [
    "===================================================================================================="
   ]
  },
  {
   "cell_type": "markdown",
   "metadata": {},
   "source": [
    "## Ineffective Operators  - Quantitative Definition\n",
    "\n",
    "<b> Quantitaive parameters for ineffective classification:  </b>\n",
    "- Each operator we will be assigned with binary value for each of the three categories by compareison to the total data. Binary values of 1 will be treated as \"panlty\" points, which will be used to determine the effectiveness of the operator.\n",
    "\n",
    "\n",
    "<b>Determine ineffective: </b>\n",
    "- <b>Sum of binary values </b> for each operator. If the result equals or greater then 2, it will be considered as ineffective.\n",
    "\n",
    "\n",
    "<b> Pros and cons:</b>\n",
    "- The binary approach makes for a simple, streightforward, easy to understand method. It allows us to switch the threshold values with ease for different purposes. \n",
    "- Quick identifcation of weakenss categories can be addressed to the operators. \n",
    "- Due to the fact that the binary classifcation does not weight the variance from the mean, we might choose Q1/Q3, as they set a more strict limit for detecting the worst values as ineffective. \n"
   ]
  },
  {
   "cell_type": "markdown",
   "metadata": {},
   "source": [
    "===================================================================================================="
   ]
  },
  {
   "cell_type": "markdown",
   "metadata": {},
   "source": [
    "## Hypothesis Testing"
   ]
  },
  {
   "cell_type": "markdown",
   "metadata": {},
   "source": [
    "- H0: There is no difference in call duration between effective operators (m0) and ineffective operators (m1): m0 = m1.\n",
    "- h1: There is a difference in call duration between effective operators (m0) and ineffective operators (m1): m0 != m1."
   ]
  },
  {
   "cell_type": "markdown",
   "metadata": {},
   "source": [
    "===================================================================================================="
   ]
  },
  {
   "cell_type": "markdown",
   "metadata": {},
   "source": [
    "## Optional - Build a ML model that predicts an observation as effective / ineffective \n",
    "  - The model will use the following features: waiting time, missed calls and tarrif_plan \n",
    "  - assumption: it is possible that tarrif plans are porioretized differently.   \n",
    "  - use logistic regression for binary classification.\n",
    "  - use clustering to see if the clients are truly clustered by the tarrif plan. "
   ]
  },
  {
   "cell_type": "markdown",
   "metadata": {},
   "source": [
    "===================================================================================================="
   ]
  },
  {
   "cell_type": "markdown",
   "metadata": {},
   "source": [
    "## Code decomposition (road map)\n",
    "\n",
    "\n"
   ]
  },
  {
   "cell_type": "markdown",
   "metadata": {},
   "source": [
    "### <b> Data Preprocessing </b>\n",
    "   - clean/replace missing values\n",
    "   - clean/replace outliar values\n",
    "   - columns conversion if necessery\n",
    "\n",
    "### <b> Exploratory Data Analysis </b>\n",
    "  \n",
    "  - Calculate the average waiting time for each row ( (total call duration - call duration) / calls_count )\n",
    "  - add total_rows count for further precentage calculations of the tested categories.\n",
    "  \n",
    "  - Build a dataframe for each operator and its characteristics using groupby:\n",
    "  \n",
    "  \n",
    "  <b>df1:</b>     \n",
    "        \n",
    "        operator_id | total_rows | avg_waiting_time | missing_calls_cnt | outgoing_calls_cnt \n",
    "  \n",
    "based on df1, build a new dataframe and calculate the precentage of each category:\n",
    "  \n",
    "   <b>df2:</b>\n",
    "         \n",
    "        operator_id | %_missed_calls | %_outgoing_calls | avg_waiting_time\n",
    "            \n",
    "     \n",
    "### <b> Set threshold values </b>   \n",
    "\n",
    "  from df2:\n",
    "     \n",
    "  - <b>missed calls:</b> analyze missed calls distribution, use mean/median/Q3 as a threshold for inefficeny. \n",
    "\n",
    "  - <b>outgoing calls:</b> analyze outgoing calls distribution, use mean/median/Q3 as a threshold for ineffciency. \n",
    "  \n",
    "  - <b>waiting time:</b> analyze waiting time distribution, use mean/median/Q1 as a threshold for ineffciency. \n",
    "  \n",
    "  For each operator we will assign binary classiication of 1 if its category value are great then the threshold, i.e. the operator is considered ineffecient for the subjected category. \n",
    " \n",
    " \n",
    "    \n",
    "### <b> Apply a row function for to determine effective/ineffective classification: </b>\n",
    "   - The function will assign a binary value for each row based on the operator charcteristcs. \n",
    "   - give a final classification for operator by the sum of its total effective/ineffective binary values. If the sum equlas or larger then 2, the operator is clasified as ineffective. if the sum is 0, the operator is classified as effecive, if the sum is 1, he is considered as neither effecive/ineffctive  \n",
    " \n",
    "\n",
    "\n",
    "### <b> Test Hypothesis </b>\n",
    "\n",
    "### <b> Optional - Build a ML model that predicts a call as effective / ineffective. </b> "
   ]
  },
  {
   "cell_type": "markdown",
   "metadata": {},
   "source": [
    "\n",
    "   "
   ]
  },
  {
   "cell_type": "markdown",
   "metadata": {},
   "source": [
    "\n",
    "- <b> missed incoming calls  </b> is considered as binary category, therefore we will compare the precetage of each operator to the precetage of the raw data. operator with missed incoming calls precentage equals or greater then the precentage of raw data- classifiy 1, below - classify 0.\n",
    "\n",
    "\n",
    "- <b> waiting time  </b> is a contineous variable, therefore we will compare the numeric values of each operator to the Q3/mean/median value of the total data. operator with avearge waiting time value equals or greater then Q3/mean/median - classifiy 1, below Q3/mean/median - classify 0.\n",
    "\n",
    "\n",
    "- <b> outgoing calls  </b> is considered as binary category, therefore we will compare the precetage of each operator to the total data. For operators who makes outgoing calls, if the amount is below the precentage of total data - classified as 1, above - classified as 0. "
   ]
  },
  {
   "cell_type": "code",
   "execution_count": null,
   "metadata": {},
   "outputs": [],
   "source": []
  }
 ],
 "metadata": {
  "kernelspec": {
   "display_name": "Python 3",
   "language": "python",
   "name": "python3"
  },
  "language_info": {
   "codemirror_mode": {
    "name": "ipython",
    "version": 3
   },
   "file_extension": ".py",
   "mimetype": "text/x-python",
   "name": "python",
   "nbconvert_exporter": "python",
   "pygments_lexer": "ipython3",
   "version": "3.6.4"
  },
  "toc": {
   "base_numbering": 1,
   "nav_menu": {},
   "number_sections": true,
   "sideBar": true,
   "skip_h1_title": true,
   "title_cell": "Table of Contents",
   "title_sidebar": "Contents",
   "toc_cell": false,
   "toc_position": {},
   "toc_section_display": true,
   "toc_window_display": false
  }
 },
 "nbformat": 4,
 "nbformat_minor": 2
}
